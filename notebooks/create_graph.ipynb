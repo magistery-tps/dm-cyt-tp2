{
  "nbformat": 4,
  "nbformat_minor": 0,
  "metadata": {
    "colab": {
      "name": "create_graph.ipynb",
      "provenance": [],
      "collapsed_sections": [],
      "include_colab_link": true
    },
    "kernelspec": {
      "display_name": "Python 3 (ipykernel)",
      "language": "python",
      "name": "python3"
    },
    "language_info": {
      "codemirror_mode": {
        "name": "ipython",
        "version": 3
      },
      "file_extension": ".py",
      "mimetype": "text/x-python",
      "name": "python",
      "nbconvert_exporter": "python",
      "pygments_lexer": "ipython3",
      "version": "3.9.6"
    },
    "varInspector": {
      "cols": {
        "lenName": 16,
        "lenType": 16,
        "lenVar": 40
      },
      "kernels_config": {
        "python": {
          "delete_cmd_postfix": "",
          "delete_cmd_prefix": "del ",
          "library": "var_list.py",
          "varRefreshCmd": "print(var_dic_list())"
        },
        "r": {
          "delete_cmd_postfix": ") ",
          "delete_cmd_prefix": "rm(",
          "library": "var_list.r",
          "varRefreshCmd": "cat(var_dic_list()) "
        }
      },
      "types_to_exclude": [
        "module",
        "function",
        "builtin_function_or_method",
        "instance",
        "_Feature"
      ],
      "window_display": false
    },
    "widgets": {
      "application/vnd.jupyter.widget-state+json": {
        "1325dbc689144a4fb45d6d388de46f44": {
          "model_module": "@jupyter-widgets/controls",
          "model_name": "HBoxModel",
          "model_module_version": "1.5.0",
          "state": {
            "_view_name": "HBoxView",
            "_dom_classes": [],
            "_model_name": "HBoxModel",
            "_view_module": "@jupyter-widgets/controls",
            "_model_module_version": "1.5.0",
            "_view_count": null,
            "_view_module_version": "1.5.0",
            "box_style": "",
            "layout": "IPY_MODEL_3e442f9e62554cda9cd5f90710b789b4",
            "_model_module": "@jupyter-widgets/controls",
            "children": [
              "IPY_MODEL_2d038527edf04142ae8f480e7b369c55",
              "IPY_MODEL_e2f2eadf5d414959acf24da1b8559fbc",
              "IPY_MODEL_6d42087d26b64c2f883acd51fbedbae6"
            ]
          }
        },
        "3e442f9e62554cda9cd5f90710b789b4": {
          "model_module": "@jupyter-widgets/base",
          "model_name": "LayoutModel",
          "model_module_version": "1.2.0",
          "state": {
            "_view_name": "LayoutView",
            "grid_template_rows": null,
            "right": null,
            "justify_content": null,
            "_view_module": "@jupyter-widgets/base",
            "overflow": null,
            "_model_module_version": "1.2.0",
            "_view_count": null,
            "flex_flow": null,
            "width": null,
            "min_width": null,
            "border": null,
            "align_items": null,
            "bottom": null,
            "_model_module": "@jupyter-widgets/base",
            "top": null,
            "grid_column": null,
            "overflow_y": null,
            "overflow_x": null,
            "grid_auto_flow": null,
            "grid_area": null,
            "grid_template_columns": null,
            "flex": null,
            "_model_name": "LayoutModel",
            "justify_items": null,
            "grid_row": null,
            "max_height": null,
            "align_content": null,
            "visibility": null,
            "align_self": null,
            "height": null,
            "min_height": null,
            "padding": null,
            "grid_auto_rows": null,
            "grid_gap": null,
            "max_width": null,
            "order": null,
            "_view_module_version": "1.2.0",
            "grid_template_areas": null,
            "object_position": null,
            "object_fit": null,
            "grid_auto_columns": null,
            "margin": null,
            "display": null,
            "left": null
          }
        },
        "2d038527edf04142ae8f480e7b369c55": {
          "model_module": "@jupyter-widgets/controls",
          "model_name": "HTMLModel",
          "model_module_version": "1.5.0",
          "state": {
            "_view_name": "HTMLView",
            "style": "IPY_MODEL_d3ab1418ae5645ac9baceafcc33df6fa",
            "_dom_classes": [],
            "description": "",
            "_model_name": "HTMLModel",
            "placeholder": "​",
            "_view_module": "@jupyter-widgets/controls",
            "_model_module_version": "1.5.0",
            "value": "  1%",
            "_view_count": null,
            "_view_module_version": "1.5.0",
            "description_tooltip": null,
            "_model_module": "@jupyter-widgets/controls",
            "layout": "IPY_MODEL_b6cb2bcd08f84761b2a17af6bb399abb"
          }
        },
        "e2f2eadf5d414959acf24da1b8559fbc": {
          "model_module": "@jupyter-widgets/controls",
          "model_name": "FloatProgressModel",
          "model_module_version": "1.5.0",
          "state": {
            "_view_name": "ProgressView",
            "style": "IPY_MODEL_e0fa2fefd7c14439be31e089646f49da",
            "_dom_classes": [],
            "description": "",
            "_model_name": "FloatProgressModel",
            "bar_style": "danger",
            "max": 366158,
            "_view_module": "@jupyter-widgets/controls",
            "_model_module_version": "1.5.0",
            "value": 5328,
            "_view_count": null,
            "_view_module_version": "1.5.0",
            "orientation": "horizontal",
            "min": 0,
            "description_tooltip": null,
            "_model_module": "@jupyter-widgets/controls",
            "layout": "IPY_MODEL_a274b90ab89242bfb63e805e35868cc0"
          }
        },
        "6d42087d26b64c2f883acd51fbedbae6": {
          "model_module": "@jupyter-widgets/controls",
          "model_name": "HTMLModel",
          "model_module_version": "1.5.0",
          "state": {
            "_view_name": "HTMLView",
            "style": "IPY_MODEL_5f2b51abc7714859a1bb2f536b9086ec",
            "_dom_classes": [],
            "description": "",
            "_model_name": "HTMLModel",
            "placeholder": "​",
            "_view_module": "@jupyter-widgets/controls",
            "_model_module_version": "1.5.0",
            "value": " 5328/366158 [01:07&lt;1:13:12, 82.15it/s]",
            "_view_count": null,
            "_view_module_version": "1.5.0",
            "description_tooltip": null,
            "_model_module": "@jupyter-widgets/controls",
            "layout": "IPY_MODEL_9662184260fe424cadfad6f39ce082d1"
          }
        },
        "d3ab1418ae5645ac9baceafcc33df6fa": {
          "model_module": "@jupyter-widgets/controls",
          "model_name": "DescriptionStyleModel",
          "model_module_version": "1.5.0",
          "state": {
            "_view_name": "StyleView",
            "_model_name": "DescriptionStyleModel",
            "description_width": "",
            "_view_module": "@jupyter-widgets/base",
            "_model_module_version": "1.5.0",
            "_view_count": null,
            "_view_module_version": "1.2.0",
            "_model_module": "@jupyter-widgets/controls"
          }
        },
        "b6cb2bcd08f84761b2a17af6bb399abb": {
          "model_module": "@jupyter-widgets/base",
          "model_name": "LayoutModel",
          "model_module_version": "1.2.0",
          "state": {
            "_view_name": "LayoutView",
            "grid_template_rows": null,
            "right": null,
            "justify_content": null,
            "_view_module": "@jupyter-widgets/base",
            "overflow": null,
            "_model_module_version": "1.2.0",
            "_view_count": null,
            "flex_flow": null,
            "width": null,
            "min_width": null,
            "border": null,
            "align_items": null,
            "bottom": null,
            "_model_module": "@jupyter-widgets/base",
            "top": null,
            "grid_column": null,
            "overflow_y": null,
            "overflow_x": null,
            "grid_auto_flow": null,
            "grid_area": null,
            "grid_template_columns": null,
            "flex": null,
            "_model_name": "LayoutModel",
            "justify_items": null,
            "grid_row": null,
            "max_height": null,
            "align_content": null,
            "visibility": null,
            "align_self": null,
            "height": null,
            "min_height": null,
            "padding": null,
            "grid_auto_rows": null,
            "grid_gap": null,
            "max_width": null,
            "order": null,
            "_view_module_version": "1.2.0",
            "grid_template_areas": null,
            "object_position": null,
            "object_fit": null,
            "grid_auto_columns": null,
            "margin": null,
            "display": null,
            "left": null
          }
        },
        "e0fa2fefd7c14439be31e089646f49da": {
          "model_module": "@jupyter-widgets/controls",
          "model_name": "ProgressStyleModel",
          "model_module_version": "1.5.0",
          "state": {
            "_view_name": "StyleView",
            "_model_name": "ProgressStyleModel",
            "description_width": "",
            "_view_module": "@jupyter-widgets/base",
            "_model_module_version": "1.5.0",
            "_view_count": null,
            "_view_module_version": "1.2.0",
            "bar_color": null,
            "_model_module": "@jupyter-widgets/controls"
          }
        },
        "a274b90ab89242bfb63e805e35868cc0": {
          "model_module": "@jupyter-widgets/base",
          "model_name": "LayoutModel",
          "model_module_version": "1.2.0",
          "state": {
            "_view_name": "LayoutView",
            "grid_template_rows": null,
            "right": null,
            "justify_content": null,
            "_view_module": "@jupyter-widgets/base",
            "overflow": null,
            "_model_module_version": "1.2.0",
            "_view_count": null,
            "flex_flow": null,
            "width": null,
            "min_width": null,
            "border": null,
            "align_items": null,
            "bottom": null,
            "_model_module": "@jupyter-widgets/base",
            "top": null,
            "grid_column": null,
            "overflow_y": null,
            "overflow_x": null,
            "grid_auto_flow": null,
            "grid_area": null,
            "grid_template_columns": null,
            "flex": null,
            "_model_name": "LayoutModel",
            "justify_items": null,
            "grid_row": null,
            "max_height": null,
            "align_content": null,
            "visibility": null,
            "align_self": null,
            "height": null,
            "min_height": null,
            "padding": null,
            "grid_auto_rows": null,
            "grid_gap": null,
            "max_width": null,
            "order": null,
            "_view_module_version": "1.2.0",
            "grid_template_areas": null,
            "object_position": null,
            "object_fit": null,
            "grid_auto_columns": null,
            "margin": null,
            "display": null,
            "left": null
          }
        },
        "5f2b51abc7714859a1bb2f536b9086ec": {
          "model_module": "@jupyter-widgets/controls",
          "model_name": "DescriptionStyleModel",
          "model_module_version": "1.5.0",
          "state": {
            "_view_name": "StyleView",
            "_model_name": "DescriptionStyleModel",
            "description_width": "",
            "_view_module": "@jupyter-widgets/base",
            "_model_module_version": "1.5.0",
            "_view_count": null,
            "_view_module_version": "1.2.0",
            "_model_module": "@jupyter-widgets/controls"
          }
        },
        "9662184260fe424cadfad6f39ce082d1": {
          "model_module": "@jupyter-widgets/base",
          "model_name": "LayoutModel",
          "model_module_version": "1.2.0",
          "state": {
            "_view_name": "LayoutView",
            "grid_template_rows": null,
            "right": null,
            "justify_content": null,
            "_view_module": "@jupyter-widgets/base",
            "overflow": null,
            "_model_module_version": "1.2.0",
            "_view_count": null,
            "flex_flow": null,
            "width": null,
            "min_width": null,
            "border": null,
            "align_items": null,
            "bottom": null,
            "_model_module": "@jupyter-widgets/base",
            "top": null,
            "grid_column": null,
            "overflow_y": null,
            "overflow_x": null,
            "grid_auto_flow": null,
            "grid_area": null,
            "grid_template_columns": null,
            "flex": null,
            "_model_name": "LayoutModel",
            "justify_items": null,
            "grid_row": null,
            "max_height": null,
            "align_content": null,
            "visibility": null,
            "align_self": null,
            "height": null,
            "min_height": null,
            "padding": null,
            "grid_auto_rows": null,
            "grid_gap": null,
            "max_width": null,
            "order": null,
            "_view_module_version": "1.2.0",
            "grid_template_areas": null,
            "object_position": null,
            "object_fit": null,
            "grid_auto_columns": null,
            "margin": null,
            "display": null,
            "left": null
          }
        }
      }
    }
  },
  "cells": [
    {
      "cell_type": "markdown",
      "metadata": {
        "id": "view-in-github",
        "colab_type": "text"
      },
      "source": [
        "<a href=\"https://colab.research.google.com/github/magistery-tps/dm-cyt-tp2/blob/main/notebooks/create_graph.ipynb\" target=\"_parent\"><img src=\"https://colab.research.google.com/assets/colab-badge.svg\" alt=\"Open In Colab\"/></a>"
      ]
    },
    {
      "cell_type": "markdown",
      "metadata": {
        "id": "TnUHp3SkDuTw"
      },
      "source": [
        "####  Referencias\n",
        "\n",
        "* [Pandas pipelines](https://calmcode.io/pandas-pipe/end.html)\n",
        "* [Python logger](https://www.youtube.com/watch?v=g8nQ90Hk328&list=PLi01XoE8jYohWFPpC17Z-wWhPOSuh8Er-&index=17)\n",
        "* [Dataset](https://smallworldofwords.org/en/project/research)\n",
        "* [Glove word embedding](https://nlp.stanford.edu/projects/glove/)\n",
        "* [Elmo word embedding](https://allennlp.org/elmo)\n",
        "* [Basics of Using Pre-trained GloVe Vectors in Python](https://medium.com/analytics-vidhya/basics-of-using-pre-trained-glove-vectors-in-python-d38905f356db)"
      ]
    },
    {
      "cell_type": "code",
      "metadata": {
        "id": "D8TmQj9ze9qc"
      },
      "source": [
        "from IPython.display import clear_output\n",
        "import sys\n",
        "import os.path\n",
        "from os import path\n",
        "\n",
        "def is_runing_into_colab_env():\n",
        "    try:\n",
        "        import google.colab\n",
        "        return True\n",
        "    except:\n",
        "        return False"
      ],
      "execution_count": 2,
      "outputs": []
    },
    {
      "cell_type": "markdown",
      "metadata": {
        "id": "DhbEcYhlVZb7"
      },
      "source": [
        "### 1. Instalacion de paquetes"
      ]
    },
    {
      "cell_type": "markdown",
      "metadata": {
        "id": "aOtOb0Db2MPW"
      },
      "source": [
        "Bajo paquete para trabajar con EEG- Me permite ver la topografía"
      ]
    },
    {
      "cell_type": "code",
      "metadata": {
        "id": "s0n2ey7G2EKM",
        "colab": {
          "base_uri": "https://localhost:8080/"
        },
        "outputId": "b547a5c0-fb35-43c0-e696-779a6680cefa"
      },
      "source": [
        "if is_runing_into_colab_env(): \n",
        "    !pip install rich"
      ],
      "execution_count": 3,
      "outputs": [
        {
          "output_type": "stream",
          "name": "stdout",
          "text": [
            "Collecting rich\n",
            "  Downloading rich-10.12.0-py3-none-any.whl (212 kB)\n",
            "\u001b[K     |████████████████████████████████| 212 kB 40.4 MB/s \n",
            "\u001b[?25hCollecting colorama<0.5.0,>=0.4.0\n",
            "  Downloading colorama-0.4.4-py2.py3-none-any.whl (16 kB)\n",
            "Collecting commonmark<0.10.0,>=0.9.0\n",
            "  Downloading commonmark-0.9.1-py2.py3-none-any.whl (51 kB)\n",
            "\u001b[K     |████████████████████████████████| 51 kB 8.0 MB/s \n",
            "\u001b[?25hRequirement already satisfied: pygments<3.0.0,>=2.6.0 in /usr/local/lib/python3.7/dist-packages (from rich) (2.6.1)\n",
            "Requirement already satisfied: typing-extensions<4.0.0,>=3.7.4 in /usr/local/lib/python3.7/dist-packages (from rich) (3.7.4.3)\n",
            "Installing collected packages: commonmark, colorama, rich\n",
            "Successfully installed colorama-0.4.4 commonmark-0.9.1 rich-10.12.0\n"
          ]
        }
      ]
    },
    {
      "cell_type": "code",
      "metadata": {
        "id": "JvZzreelQzoq"
      },
      "source": [
        "%matplotlib inline\n",
        "%load_ext autoreload\n",
        "%load_ext rich\n",
        "%autoreload 2"
      ],
      "execution_count": null,
      "outputs": []
    },
    {
      "cell_type": "markdown",
      "metadata": {
        "id": "d_NorK2fkHKU"
      },
      "source": [
        "###  2. Descargar dataset"
      ]
    },
    {
      "cell_type": "markdown",
      "metadata": {
        "id": "Smgpeqq8dn2D"
      },
      "source": [
        "Se descarga el dataset y lo descomprime en `~/datasets`."
      ]
    },
    {
      "cell_type": "code",
      "metadata": {
        "colab": {
          "base_uri": "https://localhost:8080/"
        },
        "id": "W3t42EgaAwa_",
        "outputId": "56c76664-2a72-4826-a842-071ce8fa0220"
      },
      "source": [
        "dataset_filename = \"strength.SWOW-EN.R1.csv\"\n",
        "embeding_filename = \"glove.840B.300d\"\n",
        "embeding_filename_txt = embeding_filename + '.txt'\n",
        "\n",
        "dataset_url  = 'https://raw.githubusercontent.com/magistery-tps/dm-cyt-tp2/main/datasets/{}.zip'.format(dataset_filename)\n",
        "embeding_url = 'https://nlp.stanford.edu/data/{}.zip'.format(embeding_filename)\n",
        "\n",
        "if is_runing_into_colab_env():\n",
        "    !cd ~\n",
        "    !rm -rf datasets\n",
        "    !rm -rf *.zip\n",
        "    !wget  {dataset_url}\n",
        "    !wget  {embeding_url}\n",
        "    !unzip {dataset_filename}.zip\n",
        "    !unzip {embeding_filename}.zip\n",
        "    !mkdir datasets\n",
        "    !mv {dataset_filename} datasets\n",
        "    !mv {embeding_filename}.txt datasets\n",
        "    !rm *.zip"
      ],
      "execution_count": 5,
      "outputs": [
        {
          "output_type": "stream",
          "name": "stdout",
          "text": [
            "--2021-10-31 20:38:24--  https://raw.githubusercontent.com/magistery-tps/dm-cyt-tp2/main/datasets/strength.SWOW-EN.R1.csv.zip\n",
            "Resolving raw.githubusercontent.com (raw.githubusercontent.com)... 185.199.108.133, 185.199.109.133, 185.199.110.133, ...\n",
            "Connecting to raw.githubusercontent.com (raw.githubusercontent.com)|185.199.108.133|:443... connected.\n",
            "HTTP request sent, awaiting response... 200 OK\n",
            "Length: 3011517 (2.9M) [application/zip]\n",
            "Saving to: ‘strength.SWOW-EN.R1.csv.zip’\n",
            "\n",
            "\r          strength.   0%[                    ]       0  --.-KB/s               \rstrength.SWOW-EN.R1 100%[===================>]   2.87M  --.-KB/s    in 0.02s   \n",
            "\n",
            "2021-10-31 20:38:24 (149 MB/s) - ‘strength.SWOW-EN.R1.csv.zip’ saved [3011517/3011517]\n",
            "\n",
            "--2021-10-31 20:38:24--  https://nlp.stanford.edu/data/glove.840B.300d.zip\n",
            "Resolving nlp.stanford.edu (nlp.stanford.edu)... 171.64.67.140\n",
            "Connecting to nlp.stanford.edu (nlp.stanford.edu)|171.64.67.140|:443... connected.\n",
            "HTTP request sent, awaiting response... 301 Moved Permanently\n",
            "Location: http://downloads.cs.stanford.edu/nlp/data/glove.840B.300d.zip [following]\n",
            "--2021-10-31 20:38:24--  http://downloads.cs.stanford.edu/nlp/data/glove.840B.300d.zip\n",
            "Resolving downloads.cs.stanford.edu (downloads.cs.stanford.edu)... 171.64.64.22\n",
            "Connecting to downloads.cs.stanford.edu (downloads.cs.stanford.edu)|171.64.64.22|:80... connected.\n",
            "HTTP request sent, awaiting response... 200 OK\n",
            "Length: 2176768927 (2.0G) [application/zip]\n",
            "Saving to: ‘glove.840B.300d.zip’\n",
            "\n",
            "glove.840B.300d.zip 100%[===================>]   2.03G  3.98MB/s    in 7m 19s  \n",
            "\n",
            "2021-10-31 20:45:44 (4.73 MB/s) - ‘glove.840B.300d.zip’ saved [2176768927/2176768927]\n",
            "\n",
            "Archive:  strength.SWOW-EN.R1.csv.zip\n",
            "  inflating: strength.SWOW-EN.R1.csv  \n",
            "Archive:  glove.840B.300d.zip\n",
            "  inflating: glove.840B.300d.txt     \n"
          ]
        }
      ]
    },
    {
      "cell_type": "markdown",
      "metadata": {
        "id": "CwhASmaCQzot"
      },
      "source": [
        "###  3. Importa libreria del proyecto"
      ]
    },
    {
      "cell_type": "code",
      "metadata": {
        "colab": {
          "base_uri": "https://localhost:8080/"
        },
        "id": "C_mOvYN2Qzou",
        "outputId": "b595ce62-6be2-4ed5-af7d-707326bec016"
      },
      "source": [
        "if is_runing_into_colab_env():\n",
        "    if path.exists('/content/dm-cyt-tp2'):\n",
        "        print('Pull...\\n')\n",
        "        !cd dm-cyt-tp2; git pull origin main\n",
        "    else:\n",
        "        print('Clone...\\n')\n",
        "        !git clone https://github.com/magistery-tps/dm-cyt-tp2.git"
      ],
      "execution_count": 6,
      "outputs": [
        {
          "output_type": "stream",
          "name": "stdout",
          "text": [
            "Clone...\n",
            "\n",
            "Cloning into 'dm-cyt-tp2'...\n",
            "remote: Enumerating objects: 70, done.\u001b[K\n",
            "remote: Counting objects: 100% (70/70), done.\u001b[K\n",
            "remote: Compressing objects: 100% (50/50), done.\u001b[K\n",
            "remote: Total 70 (delta 25), reused 47 (delta 10), pack-reused 0\u001b[K\n",
            "Unpacking objects: 100% (70/70), done.\n"
          ]
        }
      ]
    },
    {
      "cell_type": "code",
      "metadata": {
        "id": "xRORyNCjQzou"
      },
      "source": [
        "sys.path.append('/content/dm-cyt-tp2/src' if is_runing_into_colab_env() else '../src')\n",
        "dataset_path = '/content/datasets/{}' if is_runing_into_colab_env() else '../datasets/{}'"
      ],
      "execution_count": 12,
      "outputs": []
    },
    {
      "cell_type": "markdown",
      "metadata": {
        "id": "udoiqDNTesug"
      },
      "source": [
        "###  4. Importa paquetes externos"
      ]
    },
    {
      "cell_type": "code",
      "metadata": {
        "id": "lVzcUudLesui"
      },
      "source": [
        "import numpy as np\n",
        "import pandas as pd\n",
        "\n",
        "import logging\n",
        "from logger import setup_logger\n",
        "\n",
        "from scipy.spatial.distance import euclidean, jaccard, cosine\n",
        "from distance import closest, show_closest\n",
        "\n",
        "from transform_step import  select_columns, \\\n",
        "                            rename_columns, \\\n",
        "                            filter_bidiredtional_associations, \\\n",
        "                            filter_words_lt, \\\n",
        "                            filter_stopwords, \\\n",
        "                            to_unique_works, \\\n",
        "                            to_work_embeddings, \\\n",
        "                            dropna\n",
        "\n",
        "from output_step import plot_frequency, \\\n",
        "                        log_unique_words, \\\n",
        "                        log_source_into_response_and_vise_versa"
      ],
      "execution_count": 13,
      "outputs": []
    },
    {
      "cell_type": "code",
      "metadata": {
        "id": "MFDB4mrZDuT8"
      },
      "source": [
        "setup_logger(format = '%(levelname)s: %(message)s')"
      ],
      "execution_count": 14,
      "outputs": []
    },
    {
      "cell_type": "markdown",
      "metadata": {
        "tags": [],
        "id": "zv2jbm-pDuT9"
      },
      "source": [
        "###  5. Preprocesar dataset"
      ]
    },
    {
      "cell_type": "code",
      "metadata": {
        "id": "lvKtdQ0TDuT9"
      },
      "source": [
        "def dataset(filename): return pd.read_csv(dataset_path.format(filename), sep='\\t')"
      ],
      "execution_count": 16,
      "outputs": []
    },
    {
      "cell_type": "code",
      "metadata": {
        "colab": {
          "base_uri": "https://localhost:8080/",
          "height": 1000
        },
        "id": "FX714tBxDuT9",
        "outputId": "ace987b2-e740-40a1-9a56-3210f994ca28"
      },
      "source": [
        "output = \\\n",
        "    dataset(dataset_filename) \\\n",
        "    .pipe(select_columns) \\\n",
        "    .pipe(rename_columns) \\\n",
        "    .pipe(log_unique_words) \\\n",
        "    .pipe(log_source_into_response_and_vise_versa, unique=True) \\\n",
        "    .pipe(log_source_into_response_and_vise_versa, unique=False) \\\n",
        "    .pipe(filter_words_lt, size_less_than=2) \\\n",
        "    .pipe(dropna) \\\n",
        "    .pipe(filter_bidiredtional_associations) \\\n",
        "    .pipe(filter_stopwords, column = 'source') \\\n",
        "    .pipe(filter_stopwords, column = 'response') \\\n",
        "    .pipe(plot_frequency, column = 'source') \\\n",
        "    .pipe(plot_frequency, column = 'response')"
      ],
      "execution_count": 17,
      "outputs": [
        {
          "output_type": "stream",
          "name": "stdout",
          "text": [
            "INFO: (483636, 5) --> select_columns({}) --> (483636, 2)\n",
            "INFO: (483636, 2) --> rename_columns({}) --> (483636, 2)\n",
            "INFO: Unique - Source: 12217, Response: 64630\n",
            "INFO: NumExpr defaulting to 2 threads.\n",
            "INFO: Unique: True, Source into response: 387323, Response into source: 482350\n",
            "INFO: Unique: False, Source into response: 96313, Response into source: 1286\n",
            "INFO: (483636, 2) --> filter_words_lt({'size_less_than': 2}) --> (482247, 2)\n",
            "INFO: (482247, 2) --> dropna({}) --> (482200, 2)\n",
            "INFO: (482200, 2) --> filter_bidiredtional_associations({}) --> (385335, 2)\n",
            "INFO: (385335, 2) --> filter_stopwords({'languages': ['arabic']}) --> (385335, 2)\n",
            "INFO: (385335, 2) --> filter_stopwords({'languages': ['azerbaijani']}) --> (385159, 2)\n",
            "INFO: (385159, 2) --> filter_stopwords({'languages': ['bengali']}) --> (385159, 2)\n",
            "INFO: (385159, 2) --> filter_stopwords({'languages': ['danish']}) --> (384650, 2)\n",
            "INFO: (384650, 2) --> filter_stopwords({'languages': ['dutch']}) --> (384327, 2)\n",
            "INFO: (384327, 2) --> filter_stopwords({'languages': ['english']}) --> (381331, 2)\n",
            "INFO: (381331, 2) --> filter_stopwords({'languages': ['finnish']}) --> (381331, 2)\n",
            "INFO: (381331, 2) --> filter_stopwords({'languages': ['french']}) --> (381177, 2)\n",
            "INFO: (381177, 2) --> filter_stopwords({'languages': ['german']}) --> (381032, 2)\n",
            "INFO: (381032, 2) --> filter_stopwords({'languages': ['greek']}) --> (381032, 2)\n",
            "INFO: (381032, 2) --> filter_stopwords({'languages': ['hungarian']}) --> (380948, 2)\n",
            "INFO: (380948, 2) --> filter_stopwords({'languages': ['indonesian']}) --> (380894, 2)\n",
            "INFO: (380894, 2) --> filter_stopwords({'languages': ['italian']}) --> (380713, 2)\n",
            "INFO: (380713, 2) --> filter_stopwords({'languages': ['kazakh']}) --> (380713, 2)\n",
            "INFO: (380713, 2) --> filter_stopwords({'languages': ['nepali']}) --> (380713, 2)\n",
            "INFO: (380713, 2) --> filter_stopwords({'languages': ['norwegian']}) --> (380659, 2)\n",
            "INFO: (380659, 2) --> filter_stopwords({'languages': ['portuguese']}) --> (380659, 2)\n",
            "INFO: (380659, 2) --> filter_stopwords({'languages': ['romanian']}) --> (380360, 2)\n",
            "INFO: (380360, 2) --> filter_stopwords({'languages': ['russian']}) --> (380360, 2)\n",
            "INFO: (380360, 2) --> filter_stopwords({'languages': ['slovene']}) --> (380012, 2)\n",
            "INFO: (380012, 2) --> filter_stopwords({'languages': ['spanish']}) --> (379864, 2)\n",
            "INFO: (379864, 2) --> filter_stopwords({'languages': ['swedish']}) --> (379837, 2)\n",
            "INFO: (379837, 2) --> filter_stopwords({'languages': ['tajik']}) --> (379837, 2)\n",
            "INFO: (379837, 2) --> filter_stopwords({'languages': ['turkish']}) --> (379837, 2)\n",
            "INFO: (385335, 2) --> filter_stopwords({'column': 'source'}) --> (379837, 2)\n",
            "INFO: (379837, 2) --> filter_stopwords({'languages': ['arabic']}) --> (379837, 2)\n",
            "INFO: (379837, 2) --> filter_stopwords({'languages': ['azerbaijani']}) --> (379438, 2)\n",
            "INFO: (379438, 2) --> filter_stopwords({'languages': ['bengali']}) --> (379438, 2)\n",
            "INFO: (379438, 2) --> filter_stopwords({'languages': ['danish']}) --> (376835, 2)\n",
            "INFO: (376835, 2) --> filter_stopwords({'languages': ['dutch']}) --> (375481, 2)\n",
            "INFO: (375481, 2) --> filter_stopwords({'languages': ['english']}) --> (369925, 2)\n",
            "INFO: (369925, 2) --> filter_stopwords({'languages': ['finnish']}) --> (369925, 2)\n",
            "INFO: (369925, 2) --> filter_stopwords({'languages': ['french']}) --> (369786, 2)\n",
            "INFO: (369786, 2) --> filter_stopwords({'languages': ['german']}) --> (368994, 2)\n",
            "INFO: (368994, 2) --> filter_stopwords({'languages': ['greek']}) --> (368994, 2)\n",
            "INFO: (368994, 2) --> filter_stopwords({'languages': ['hungarian']}) --> (368816, 2)\n",
            "INFO: (368816, 2) --> filter_stopwords({'languages': ['indonesian']}) --> (368787, 2)\n",
            "INFO: (368787, 2) --> filter_stopwords({'languages': ['italian']}) --> (368590, 2)\n",
            "INFO: (368590, 2) --> filter_stopwords({'languages': ['kazakh']}) --> (368590, 2)\n",
            "INFO: (368590, 2) --> filter_stopwords({'languages': ['nepali']}) --> (368590, 2)\n",
            "INFO: (368590, 2) --> filter_stopwords({'languages': ['norwegian']}) --> (368535, 2)\n",
            "INFO: (368535, 2) --> filter_stopwords({'languages': ['portuguese']}) --> (368535, 2)\n",
            "INFO: (368535, 2) --> filter_stopwords({'languages': ['romanian']}) --> (367451, 2)\n",
            "INFO: (367451, 2) --> filter_stopwords({'languages': ['russian']}) --> (367451, 2)\n",
            "INFO: (367451, 2) --> filter_stopwords({'languages': ['slovene']}) --> (366549, 2)\n",
            "INFO: (366549, 2) --> filter_stopwords({'languages': ['spanish']}) --> (366175, 2)\n",
            "INFO: (366175, 2) --> filter_stopwords({'languages': ['swedish']}) --> (366163, 2)\n",
            "INFO: (366163, 2) --> filter_stopwords({'languages': ['tajik']}) --> (366163, 2)\n",
            "INFO: (366163, 2) --> filter_stopwords({'languages': ['turkish']}) --> (366163, 2)\n",
            "INFO: (379837, 2) --> filter_stopwords({'column': 'response'}) --> (366163, 2)\n"
          ]
        },
        {
          "output_type": "display_data",
          "data": {
            "image/png": "[encoded data removed]",
            "text/plain": [
              "<Figure size 432x288 with 1 Axes>"
            ]
          },
          "metadata": {
            "needs_background": "light"
          }
        }
      ]
    },
    {
      "cell_type": "code",
      "metadata": {
        "colab": {
          "base_uri": "https://localhost:8080/",
          "height": 100,
          "referenced_widgets": [
            "1325dbc689144a4fb45d6d388de46f44",
            "3e442f9e62554cda9cd5f90710b789b4",
            "2d038527edf04142ae8f480e7b369c55",
            "e2f2eadf5d414959acf24da1b8559fbc",
            "6d42087d26b64c2f883acd51fbedbae6",
            "d3ab1418ae5645ac9baceafcc33df6fa",
            "b6cb2bcd08f84761b2a17af6bb399abb",
            "e0fa2fefd7c14439be31e089646f49da",
            "a274b90ab89242bfb63e805e35868cc0",
            "5f2b51abc7714859a1bb2f536b9086ec",
            "9662184260fe424cadfad6f39ce082d1"
          ]
        },
        "id": "r7O8mGd4DuT-",
        "outputId": "188fed03-ef95-493d-8c87-4705a2c7f78f"
      },
      "source": [
        "work_embeddings = output \\\n",
        "    .pipe(to_unique_works) \\\n",
        "    .pipe(to_work_embeddings, file_path = dataset_path.format(embeding_filename_txt))"
      ],
      "execution_count": 18,
      "outputs": [
        {
          "output_type": "stream",
          "name": "stdout",
          "text": [
            "INFO: (366163, 2) --> to_unique_works({}) --> (366158, 1)\n"
          ]
        },
        {
          "output_type": "display_data",
          "data": {
            "application/vnd.jupyter.widget-view+json": {
              "model_id": "1325dbc689144a4fb45d6d388de46f44",
              "version_minor": 0,
              "version_major": 2
            },
            "text/plain": [
              "  0%|          | 0/366158 [00:00<?, ?it/s]"
            ]
          },
          "metadata": {}
        },
        {
          "output_type": "stream",
          "name": "stdout",
          "text": [
            "INFO: Found 5328 words.\n",
            "INFO: (366158, 1) --> to_work_embeddings({'file_path': '/content/datasets/glove.840B.300d.txt'}) --> 5328\n"
          ]
        }
      ]
    },
    {
      "cell_type": "code",
      "metadata": {
        "colab": {
          "base_uri": "https://localhost:8080/"
        },
        "id": "XY-qcQjBDuT-",
        "outputId": "bbbae79c-7a28-4333-8f78-8fa19b6b6e6d"
      },
      "source": [
        "any_word = list(work_embeddings.keys())[10]\n",
        "\n",
        "show_closest(work_embeddings, any_word, cosine)\n",
        "show_closest(work_embeddings, any_word, euclidean)\n",
        "show_closest(work_embeddings, any_word, jaccard)"
      ],
      "execution_count": 19,
      "outputs": [
        {
          "output_type": "stream",
          "name": "stdout",
          "text": [
            "- distance: cosine\n",
            "- Word: alternative\n",
            "- Closest: ['preferable', 'affordable', 'straightforward', 'mainstream', 'sustainable', 'regardless', 'marketplace', 'framework', 'guidelines']\n",
            "\n",
            "- distance: euclidean\n",
            "- Word: alternative\n",
            "- Closest: ['preferable', 'straightforward', 'regardless', 'affordable', 'mainstream', 'mainstay', 'drawback', 'forefront', 'alongside']\n",
            "\n",
            "- distance: jaccard\n",
            "- Word: alternative\n",
            "- Closest: ['jetliner', 'dealbreaker', 'goldeneye', 'shipmate', 'penknife', 'masterbedroom', 'stairstep', 'serverfarm', 'website']\n",
            "\n"
          ]
        }
      ]
    }
  ]
}