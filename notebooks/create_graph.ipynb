{
  "nbformat": 4,
  "nbformat_minor": 0,
  "metadata": {
    "colab": {
      "name": "create_graph.ipynb",
      "provenance": [],
      "collapsed_sections": [],
      "include_colab_link": true
    },
    "kernelspec": {
      "display_name": "Python 3 (ipykernel)",
      "language": "python",
      "name": "python3"
    },
    "language_info": {
      "codemirror_mode": {
        "name": "ipython",
        "version": 3
      },
      "file_extension": ".py",
      "mimetype": "text/x-python",
      "name": "python",
      "nbconvert_exporter": "python",
      "pygments_lexer": "ipython3",
      "version": "3.9.6"
    },
    "varInspector": {
      "cols": {
        "lenName": 16,
        "lenType": 16,
        "lenVar": 40
      },
      "kernels_config": {
        "python": {
          "delete_cmd_postfix": "",
          "delete_cmd_prefix": "del ",
          "library": "var_list.py",
          "varRefreshCmd": "print(var_dic_list())"
        },
        "r": {
          "delete_cmd_postfix": ") ",
          "delete_cmd_prefix": "rm(",
          "library": "var_list.r",
          "varRefreshCmd": "cat(var_dic_list()) "
        }
      },
      "types_to_exclude": [
        "module",
        "function",
        "builtin_function_or_method",
        "instance",
        "_Feature"
      ],
      "window_display": false
    }
  },
  "cells": [
    {
      "cell_type": "markdown",
      "metadata": {
        "id": "view-in-github",
        "colab_type": "text"
      },
      "source": [
        "<a href=\"https://colab.research.google.com/github/magistery-tps/dm-cyt-tp2/blob/main/create_graph.ipynb\" target=\"_parent\"><img src=\"https://colab.research.google.com/assets/colab-badge.svg\" alt=\"Open In Colab\"/></a>"
      ]
    },
    {
      "cell_type": "code",
      "metadata": {
        "id": "JvZzreelQzoq"
      },
      "source": [
        "%matplotlib inline\n",
        "%load_ext autoreload\n",
        "%autoreload 2"
      ],
      "execution_count": 1,
      "outputs": []
    },
    {
      "cell_type": "code",
      "metadata": {
        "id": "D8TmQj9ze9qc"
      },
      "source": [
        "from IPython.display import clear_output\n",
        "import sys\n",
        "import os.path\n",
        "from os import path\n",
        "\n",
        "def is_runing_into_colab_env():\n",
        "    try:\n",
        "        import google.colab\n",
        "        return True\n",
        "    except:\n",
        "        return False"
      ],
      "execution_count": 2,
      "outputs": []
    },
    {
      "cell_type": "markdown",
      "metadata": {
        "id": "DhbEcYhlVZb7"
      },
      "source": [
        "## 1. Instalacion de paquetes"
      ]
    },
    {
      "cell_type": "markdown",
      "metadata": {
        "id": "aOtOb0Db2MPW"
      },
      "source": [
        "Bajo paquete para trabajar con EEG- Me permite ver la topografía"
      ]
    },
    {
      "cell_type": "code",
      "metadata": {
        "id": "s0n2ey7G2EKM"
      },
      "source": [
        "# if is_runing_into_colab_env(): \n",
        "    # !pip install"
      ],
      "execution_count": 6,
      "outputs": []
    },
    {
      "cell_type": "markdown",
      "metadata": {
        "id": "d_NorK2fkHKU"
      },
      "source": [
        "## 2. Descargar dataset"
      ]
    },
    {
      "cell_type": "markdown",
      "metadata": {
        "id": "Smgpeqq8dn2D"
      },
      "source": [
        "Se descarga el dataset y lo descomprime en `~/dataset`."
      ]
    },
    {
      "cell_type": "code",
      "metadata": {
        "id": "W3t42EgaAwa_",
        "colab": {
          "base_uri": "https://localhost:8080/"
        },
        "outputId": "7159f286-a153-46d8-89be-a229cba87a82"
      },
      "source": [
        "filename     = \"strength.SWOW-EN.R1.csv\"\n",
        "dataset_url  =  f'https://raw.githubusercontent.com/magistery-tps/dm-cyt-tp2/main/datasets/{filename}.zip'\n",
        "\n",
        "if is_runing_into_colab_env():\n",
        "    !cd ~\n",
        "    !rm -rf datasets\n",
        "    !rm -rf {filename}.zip\n",
        "    !wget  {dataset_url}\n",
        "    !unzip {filename}.zip\n",
        "    !mkdir datasets\n",
        "    !mv {filename} datasets\n",
        "    !rm {filename}.zip"
      ],
      "execution_count": 14,
      "outputs": [
        {
          "output_type": "stream",
          "name": "stdout",
          "text": [
            "--2021-10-28 23:44:42--  https://raw.githubusercontent.com/magistery-tps/dm-cyt-tp2/main/datasets/strength.SWOW-EN.R1.csv.zip\n",
            "Resolving raw.githubusercontent.com (raw.githubusercontent.com)... 185.199.110.133, 185.199.109.133, 185.199.111.133, ...\n",
            "Connecting to raw.githubusercontent.com (raw.githubusercontent.com)|185.199.110.133|:443... connected.\n",
            "HTTP request sent, awaiting response... 200 OK\n",
            "Length: 3011517 (2.9M) [application/zip]\n",
            "Saving to: ‘strength.SWOW-EN.R1.csv.zip’\n",
            "\n",
            "\r          strength.   0%[                    ]       0  --.-KB/s               \rstrength.SWOW-EN.R1 100%[===================>]   2.87M  --.-KB/s    in 0.08s   \n",
            "\n",
            "2021-10-28 23:44:42 (36.3 MB/s) - ‘strength.SWOW-EN.R1.csv.zip’ saved [3011517/3011517]\n",
            "\n",
            "Archive:  strength.SWOW-EN.R1.csv.zip\n",
            "  inflating: strength.SWOW-EN.R1.csv  \n"
          ]
        }
      ]
    },
    {
      "cell_type": "markdown",
      "metadata": {
        "id": "CwhASmaCQzot"
      },
      "source": [
        "## 3. Importa libreria del proyecto"
      ]
    },
    {
      "cell_type": "code",
      "metadata": {
        "id": "C_mOvYN2Qzou",
        "colab": {
          "base_uri": "https://localhost:8080/"
        },
        "outputId": "eee69fbf-88bc-4a97-c028-114e6028d39f"
      },
      "source": [
        "if is_runing_into_colab_env():\n",
        "    if path.exists('/content/dm-cyt-tp2'):\n",
        "        print('Pull...\\n')\n",
        "        !cd dm-cyt-tp2; git pull origin main\n",
        "    else:\n",
        "        print('Clone...\\n')\n",
        "        !git clone https://github.com/magistery-tps/dm-cyt-tp2.git"
      ],
      "execution_count": 15,
      "outputs": [
        {
          "output_type": "stream",
          "name": "stdout",
          "text": [
            "Clone...\n",
            "\n",
            "Cloning into 'dm-cyt-tp2'...\n",
            "remote: Enumerating objects: 20, done.\u001b[K\n",
            "remote: Counting objects: 100% (20/20), done.\u001b[K\n",
            "remote: Compressing objects: 100% (13/13), done.\u001b[K\n",
            "remote: Total 20 (delta 3), reused 16 (delta 2), pack-reused 0\u001b[K\n",
            "Unpacking objects: 100% (20/20), done.\n"
          ]
        }
      ]
    },
    {
      "cell_type": "code",
      "metadata": {
        "id": "xRORyNCjQzou"
      },
      "source": [
        "sys.path.append('/content/dm-cyt-tp2/src' if is_runing_into_colab_env() else './src')"
      ],
      "execution_count": 16,
      "outputs": []
    },
    {
      "cell_type": "markdown",
      "metadata": {
        "id": "udoiqDNTesug"
      },
      "source": [
        "## 4. Importa paquetes externos"
      ]
    },
    {
      "cell_type": "code",
      "metadata": {
        "id": "lVzcUudLesui"
      },
      "source": [
        "import numpy as np\n",
        "import pandas as pd"
      ],
      "execution_count": 17,
      "outputs": []
    },
    {
      "cell_type": "markdown",
      "metadata": {
        "id": "8fmrfIFiQ7EP"
      },
      "source": [
        "https://smallworldofwords.org/en/project/research"
      ]
    },
    {
      "cell_type": "code",
      "metadata": {
        "id": "GV192dujQ7EP"
      },
      "source": [
        ""
      ],
      "execution_count": null,
      "outputs": []
    }
  ]
}