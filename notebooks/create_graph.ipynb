{
 "cells": [
  {
   "cell_type": "markdown",
   "metadata": {
    "colab_type": "text",
    "id": "view-in-github"
   },
   "source": [
    "<a href=\"https://colab.research.google.com/github/magistery-tps/dm-cyt-tp2/blob/main/create_graph.ipynb\" target=\"_parent\"><img src=\"https://colab.research.google.com/assets/colab-badge.svg\" alt=\"Open In Colab\"/></a>"
   ]
  },
  {
   "cell_type": "code",
   "execution_count": 1,
   "metadata": {
    "id": "JvZzreelQzoq"
   },
   "outputs": [],
   "source": [
    "%matplotlib inline\n",
    "%load_ext autoreload\n",
    "%autoreload 2"
   ]
  },
  {
   "cell_type": "code",
   "execution_count": 2,
   "metadata": {
    "id": "D8TmQj9ze9qc"
   },
   "outputs": [],
   "source": [
    "from IPython.display import clear_output\n",
    "import sys\n",
    "import os.path\n",
    "from os import path\n",
    "\n",
    "def is_runing_into_colab_env():\n",
    "    try:\n",
    "        import google.colab\n",
    "        return True\n",
    "    except:\n",
    "        return False"
   ]
  },
  {
   "cell_type": "markdown",
   "metadata": {
    "id": "DhbEcYhlVZb7"
   },
   "source": [
    "## 1. Instalacion de paquetes"
   ]
  },
  {
   "cell_type": "markdown",
   "metadata": {
    "id": "aOtOb0Db2MPW"
   },
   "source": [
    "Bajo paquete para trabajar con EEG- Me permite ver la topografía"
   ]
  },
  {
   "cell_type": "code",
   "execution_count": 3,
   "metadata": {
    "id": "s0n2ey7G2EKM"
   },
   "outputs": [],
   "source": [
    "# if is_runing_into_colab_env(): \n",
    "    # !pip install"
   ]
  },
  {
   "cell_type": "markdown",
   "metadata": {
    "id": "d_NorK2fkHKU"
   },
   "source": [
    "## 2. Descargar dataset"
   ]
  },
  {
   "cell_type": "markdown",
   "metadata": {
    "id": "Smgpeqq8dn2D"
   },
   "source": [
    "Se descarga el dataset y lo descomprime en `~/dataset`."
   ]
  },
  {
   "cell_type": "code",
   "execution_count": 4,
   "metadata": {
    "colab": {
     "base_uri": "https://localhost:8080/"
    },
    "id": "W3t42EgaAwa_",
    "outputId": "7159f286-a153-46d8-89be-a229cba87a82"
   },
   "outputs": [],
   "source": [
    "filename     = \"strength.SWOW-EN.R1.csv\"\n",
    "dataset_url  =  f'https://raw.githubusercontent.com/magistery-tps/dm-cyt-tp2/main/datasets/{filename}.zip'\n",
    "\n",
    "if is_runing_into_colab_env():\n",
    "    !cd ~\n",
    "    !rm -rf datasets\n",
    "    !rm -rf {filename}.zip\n",
    "    !wget  {dataset_url}\n",
    "    !unzip {filename}.zip\n",
    "    !mkdir datasets\n",
    "    !mv {filename} datasets\n",
    "    !rm {filename}.zip"
   ]
  },
  {
   "cell_type": "markdown",
   "metadata": {
    "id": "CwhASmaCQzot"
   },
   "source": [
    "## 3. Importa libreria del proyecto"
   ]
  },
  {
   "cell_type": "code",
   "execution_count": 5,
   "metadata": {
    "colab": {
     "base_uri": "https://localhost:8080/"
    },
    "id": "C_mOvYN2Qzou",
    "outputId": "eee69fbf-88bc-4a97-c028-114e6028d39f"
   },
   "outputs": [],
   "source": [
    "if is_runing_into_colab_env():\n",
    "    if path.exists('/content/dm-cyt-tp2'):\n",
    "        print('Pull...\\n')\n",
    "        !cd dm-cyt-tp2; git pull origin main\n",
    "    else:\n",
    "        print('Clone...\\n')\n",
    "        !git clone https://github.com/magistery-tps/dm-cyt-tp2.git"
   ]
  },
  {
   "cell_type": "code",
   "execution_count": 6,
   "metadata": {
    "id": "xRORyNCjQzou"
   },
   "outputs": [],
   "source": [
    "sys.path.append('/content/dm-cyt-tp2/src' if is_runing_into_colab_env() else './src')"
   ]
  },
  {
   "cell_type": "markdown",
   "metadata": {
    "id": "udoiqDNTesug"
   },
   "source": [
    "## 4. Importa paquetes externos"
   ]
  },
  {
   "cell_type": "code",
   "execution_count": 7,
   "metadata": {
    "id": "lVzcUudLesui"
   },
   "outputs": [],
   "source": [
    "import numpy as np\n",
    "import pandas as pd"
   ]
  },
  {
   "cell_type": "markdown",
   "metadata": {
    "id": "8fmrfIFiQ7EP"
   },
   "source": [
    "https://smallworldofwords.org/en/project/research"
   ]
  },
  {
   "cell_type": "code",
   "execution_count": 23,
   "metadata": {
    "id": "GV192dujQ7EP"
   },
   "outputs": [],
   "source": [
    "dataset = pd.read_csv(f'../datasets/{filename}', nrows=10000, sep='\\t')"
   ]
  },
  {
   "cell_type": "code",
   "execution_count": 36,
   "metadata": {},
   "outputs": [
    {
     "data": {
      "text/html": [
       "<div>\n",
       "<style scoped>\n",
       "    .dataframe tbody tr th:only-of-type {\n",
       "        vertical-align: middle;\n",
       "    }\n",
       "\n",
       "    .dataframe tbody tr th {\n",
       "        vertical-align: top;\n",
       "    }\n",
       "\n",
       "    .dataframe thead th {\n",
       "        text-align: right;\n",
       "    }\n",
       "</style>\n",
       "<table border=\"1\" class=\"dataframe\">\n",
       "  <thead>\n",
       "    <tr style=\"text-align: right;\">\n",
       "      <th></th>\n",
       "      <th>cue</th>\n",
       "      <th>response</th>\n",
       "    </tr>\n",
       "  </thead>\n",
       "  <tbody>\n",
       "    <tr>\n",
       "      <th>0</th>\n",
       "      <td>a</td>\n",
       "      <td>one</td>\n",
       "    </tr>\n",
       "    <tr>\n",
       "      <th>1</th>\n",
       "      <td>a</td>\n",
       "      <td>the</td>\n",
       "    </tr>\n",
       "    <tr>\n",
       "      <th>2</th>\n",
       "      <td>a</td>\n",
       "      <td>b</td>\n",
       "    </tr>\n",
       "    <tr>\n",
       "      <th>3</th>\n",
       "      <td>a</td>\n",
       "      <td>an</td>\n",
       "    </tr>\n",
       "    <tr>\n",
       "      <th>4</th>\n",
       "      <td>a</td>\n",
       "      <td>first</td>\n",
       "    </tr>\n",
       "  </tbody>\n",
       "</table>\n",
       "</div>"
      ],
      "text/plain": [
       "  cue response\n",
       "0   a      one\n",
       "1   a      the\n",
       "2   a        b\n",
       "3   a       an\n",
       "4   a    first"
      ]
     },
     "execution_count": 36,
     "metadata": {},
     "output_type": "execute_result"
    }
   ],
   "source": [
    "pairs = dataset[['cue','response']]\n",
    "pairs.head()"
   ]
  },
  {
   "cell_type": "markdown",
   "metadata": {},
   "source": [
    "¿Cuántas claves y respuestas son únicas?"
   ]
  },
  {
   "cell_type": "code",
   "execution_count": 37,
   "metadata": {},
   "outputs": [
    {
     "name": "stdout",
     "output_type": "stream",
     "text": [
      "(250,)\n",
      "(5508,)\n"
     ]
    }
   ],
   "source": [
    "print(pairs['cue'].unique().shape)\n",
    "print(pairs['response'].unique().shape)"
   ]
  },
  {
   "cell_type": "markdown",
   "metadata": {},
   "source": [
    "¿cuántas palabras de R1 están en Cue? ¿alrevés?"
   ]
  },
  {
   "cell_type": "code",
   "execution_count": 38,
   "metadata": {},
   "outputs": [
    {
     "name": "stdout",
     "output_type": "stream",
     "text": [
      "370\n",
      "6493\n"
     ]
    }
   ],
   "source": [
    "print(sum(pairs['response'].isin(pairs['cue'].unique())))\n",
    "print(sum(pairs['cue'].isin(pairs['response'].unique())))"
   ]
  },
  {
   "cell_type": "code",
   "execution_count": 39,
   "metadata": {},
   "outputs": [
    {
     "name": "stdout",
     "output_type": "stream",
     "text": [
      "9958\n",
      "9953\n",
      "9953\n"
     ]
    },
    {
     "name": "stderr",
     "output_type": "stream",
     "text": [
      "/home/adrian/.conda/envs/dm-cyt-tp2/lib/python3.9/site-packages/pandas/core/frame.py:4906: SettingWithCopyWarning: \n",
      "A value is trying to be set on a copy of a slice from a DataFrame\n",
      "\n",
      "See the caveats in the documentation: https://pandas.pydata.org/pandas-docs/stable/user_guide/indexing.html#returning-a-view-versus-a-copy\n",
      "  return super().drop(\n"
     ]
    }
   ],
   "source": [
    "# Sacar palabras de una letra\n",
    "pairs.drop(pairs[pairs['cue'].str.len().lt(2)].index, inplace=True)\n",
    "print(pairs.shape[0])\n",
    "pairs.drop(pairs[pairs['response'].str.len().lt(2)].index, inplace=True)\n",
    "print(pairs.shape[0])\n",
    "\n",
    "# Sacar nan\n",
    "pairs.dropna()\n",
    "print(pairs.shape[0])"
   ]
  },
  {
   "cell_type": "code",
   "execution_count": 40,
   "metadata": {},
   "outputs": [
    {
     "name": "stdout",
     "output_type": "stream",
     "text": [
      "9587\n",
      "3519\n"
     ]
    }
   ],
   "source": [
    "print(sum(pairs['response'].isin(pairs['cue'].unique())==False))\n",
    "print(sum(pairs['cue'].isin(pairs['response'].unique())==False))\n",
    "\n",
    "# Sacar palabras que no este en cue Y en R1\n",
    "pairs.drop(pairs[pairs['response'].isin(pairs['cue'].unique())==False].index, inplace=True)\n",
    "pairs.drop(pairs[pairs['cue'].isin(pairs['response'].unique())==False].index, inplace=True)"
   ]
  },
  {
   "cell_type": "code",
   "execution_count": 41,
   "metadata": {},
   "outputs": [
    {
     "data": {
      "text/plain": [
       "<AxesSubplot:>"
      ]
     },
     "execution_count": 41,
     "metadata": {},
     "output_type": "execute_result"
    },
    {
     "data": {
      "image/png": "[encoded data removed]",
      "text/plain": [
       "<Figure size 432x288 with 1 Axes>"
      ]
     },
     "metadata": {
      "needs_background": "light"
     },
     "output_type": "display_data"
    }
   ],
   "source": [
    "# Histograma de frecuencia para claves\n",
    "# new_df = df.mytext_new.str.split(expand=True).stack().value_counts().reset_index()\n",
    "new_df = pairs['cue'].str.split(expand=True).stack().value_counts().reset_index()\n",
    "new_df.columns = ['Word', 'Frequency'] \n",
    "# new_df.head(20)\n",
    "new_df['Frequency'].plot()"
   ]
  },
  {
   "cell_type": "code",
   "execution_count": 42,
   "metadata": {},
   "outputs": [
    {
     "data": {
      "text/plain": [
       "<AxesSubplot:>"
      ]
     },
     "execution_count": 42,
     "metadata": {},
     "output_type": "execute_result"
    },
    {
     "data": {
      "image/png": "[encoded data removed]",
      "text/plain": [
       "<Figure size 432x288 with 1 Axes>"
      ]
     },
     "metadata": {
      "needs_background": "light"
     },
     "output_type": "display_data"
    }
   ],
   "source": [
    "# Histograma de frecuencia para claves\n",
    "# new_df = df.mytext_new.str.split(expand=True).stack().value_counts().reset_index()\n",
    "new_dfR = pairs['response'].str.split(expand=True).stack().value_counts().reset_index()\n",
    "new_dfR.columns = ['Word', 'Frequency'] \n",
    "# new_df.head(20)\n",
    "new_dfR['Frequency'].plot()"
   ]
  },
  {
   "cell_type": "code",
   "execution_count": null,
   "metadata": {},
   "outputs": [],
   "source": []
  }
 ],
 "metadata": {
  "colab": {
   "collapsed_sections": [],
   "include_colab_link": true,
   "name": "create_graph.ipynb",
   "provenance": []
  },
  "kernelspec": {
   "display_name": "Python 3 (ipykernel)",
   "language": "python",
   "name": "python3"
  },
  "language_info": {
   "codemirror_mode": {
    "name": "ipython",
    "version": 3
   },
   "file_extension": ".py",
   "mimetype": "text/x-python",
   "name": "python",
   "nbconvert_exporter": "python",
   "pygments_lexer": "ipython3",
   "version": "3.9.6"
  },
  "varInspector": {
   "cols": {
    "lenName": 16,
    "lenType": 16,
    "lenVar": 40
   },
   "kernels_config": {
    "python": {
     "delete_cmd_postfix": "",
     "delete_cmd_prefix": "del ",
     "library": "var_list.py",
     "varRefreshCmd": "print(var_dic_list())"
    },
    "r": {
     "delete_cmd_postfix": ") ",
     "delete_cmd_prefix": "rm(",
     "library": "var_list.r",
     "varRefreshCmd": "cat(var_dic_list()) "
    }
   },
   "types_to_exclude": [
    "module",
    "function",
    "builtin_function_or_method",
    "instance",
    "_Feature"
   ],
   "window_display": false
  }
 },
 "nbformat": 4,
 "nbformat_minor": 4
}
