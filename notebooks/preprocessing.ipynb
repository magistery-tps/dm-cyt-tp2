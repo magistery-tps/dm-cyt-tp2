{
 "cells": [
  {
   "cell_type": "markdown",
   "metadata": {
    "colab_type": "text",
    "id": "view-in-github"
   },
   "source": [
    "<a href=\"https://colab.research.google.com/github/magistery-tps/dm-cyt-tp2/blob/main/notebooks/create_graph.ipynb\" target=\"_parent\"><img src=\"https://colab.research.google.com/assets/colab-badge.svg\" alt=\"Open In Colab\"/></a>"
   ]
  },
  {
   "cell_type": "markdown",
   "metadata": {
    "tags": []
   },
   "source": [
    "---\n",
    "\n",
    "# UBA - Maestria en Explotación de Datos y Descubrimiento de Conocimiento\n",
    "### **Materia**: Datamining en Ciencia y Tecnologia\n",
    "### **Trabajos Prácticos 2**: Redes de palabras\n",
    "\n",
    "### **Grupo**\n",
    "\n",
    "* Adrian Norberto Marino\n",
    "* Claudio Collado\n",
    "* Flavia Felicioni\n",
    "\n",
    "---"
   ]
  },
  {
   "cell_type": "markdown",
   "metadata": {},
   "source": [
    "## Preprocesamiento de datos"
   ]
  },
  {
   "cell_type": "code",
   "execution_count": 1,
   "metadata": {
    "id": "D8TmQj9ze9qc"
   },
   "outputs": [],
   "source": [
    "from IPython.display import clear_output\n",
    "import sys\n",
    "import os.path\n",
    "from os import path\n",
    "\n",
    "def is_runing_into_colab_env():\n",
    "    try:\n",
    "        import google.colab\n",
    "        return True\n",
    "    except:\n",
    "        return False"
   ]
  },
  {
   "cell_type": "code",
   "execution_count": 2,
   "metadata": {
    "id": "JvZzreelQzoq"
   },
   "outputs": [],
   "source": [
    "%matplotlib inline\n",
    "%load_ext autoreload\n",
    "%autoreload 2"
   ]
  },
  {
   "cell_type": "markdown",
   "metadata": {
    "id": "d_NorK2fkHKU"
   },
   "source": [
    "###  1. Descargar dataset"
   ]
  },
  {
   "cell_type": "markdown",
   "metadata": {
    "id": "Smgpeqq8dn2D"
   },
   "source": [
    "Se descarga el dataset y lo descomprime en `~/datasets`."
   ]
  },
  {
   "cell_type": "code",
   "execution_count": 3,
   "metadata": {
    "colab": {
     "base_uri": "https://localhost:8080/"
    },
    "id": "W3t42EgaAwa_",
    "outputId": "56c76664-2a72-4826-a842-071ce8fa0220"
   },
   "outputs": [],
   "source": [
    "# Database...\n",
    "dataset_filename = \"SWOW-EN.R100.csv\"\n",
    "dataset_url      = 'https://raw.githubusercontent.com/magistery-tps/dm-cyt-tp2/main/datasets/{}.zip'.format(dataset_filename)\n",
    "\n",
    "# Embeddings...\n",
    "\n",
    "# Glove:\n",
    "glove_embeding_filename     = \"glove.840B.300d\"\n",
    "glove_embeding_filename_txt = glove_embeding_filename + '.txt'\n",
    "glove_embeding_url          = 'https://nlp.stanford.edu/data/{}.zip'.format(glove_embeding_filename)\n",
    "\n",
    "# Google:\n",
    "google_embeding_filename    = \"GoogleNews-vectors-negative300.bin.gz\"\n",
    "google_embeding_url         = 'https://s3.amazonaws.com/dl4j-distribution/{}'.format(google_embeding_filename)\n",
    "\n",
    "\n",
    "if is_runing_into_colab_env():\n",
    "    !cd ~\n",
    "    !rm -rf datasets\n",
    "    !rm -rf *.zip\n",
    "    \n",
    "    !wget  {dataset_url}\n",
    "    !wget  {glove_embeding_url}\n",
    "    !wget  {google_embeding_url}\n",
    "    \n",
    "    !unzip {dataset_filename}.zip\n",
    "    !unzip {glove_embeding_filename}.zip\n",
    "    !mkdir datasets\n",
    "\n",
    "    !mv {dataset_filename} datasets\n",
    "    !mv {glove_embeding_filename}.txt datasets\n",
    "    !mv {google_embeding_filename} datasets\n",
    "\n",
    "    !rm *.zip"
   ]
  },
  {
   "cell_type": "markdown",
   "metadata": {
    "id": "CwhASmaCQzot"
   },
   "source": [
    "###  2. Importa libreria del proyecto"
   ]
  },
  {
   "cell_type": "code",
   "execution_count": 4,
   "metadata": {
    "colab": {
     "base_uri": "https://localhost:8080/"
    },
    "id": "C_mOvYN2Qzou",
    "outputId": "b595ce62-6be2-4ed5-af7d-707326bec016"
   },
   "outputs": [],
   "source": [
    "if is_runing_into_colab_env():\n",
    "    if path.exists('/content/dm-cyt-tp2'):\n",
    "        print('Pull...\\n')\n",
    "        !cd dm-cyt-tp2; git pull origin main\n",
    "    else:\n",
    "        print('Clone...\\n')\n",
    "        !git clone https://github.com/magistery-tps/dm-cyt-tp2.git"
   ]
  },
  {
   "cell_type": "code",
   "execution_count": 5,
   "metadata": {
    "id": "xRORyNCjQzou"
   },
   "outputs": [],
   "source": [
    "sys.path.append('/content/dm-cyt-tp2/src' if is_runing_into_colab_env() else '../src')\n",
    "dataset_path = '/content/dm-cyt-tp2/datasets/{}' if is_runing_into_colab_env() else '../datasets/{}'"
   ]
  },
  {
   "cell_type": "markdown",
   "metadata": {
    "id": "udoiqDNTesug",
    "tags": []
   },
   "source": [
    "###  3. Importa paquetes externos"
   ]
  },
  {
   "cell_type": "code",
   "execution_count": 6,
   "metadata": {
    "id": "lVzcUudLesui"
   },
   "outputs": [
    {
     "name": "stderr",
     "output_type": "stream",
     "text": [
      "[nltk_data] Downloading package stopwords to /home/adrian/nltk_data...\n",
      "[nltk_data]   Package stopwords is already up-to-date!\n"
     ]
    }
   ],
   "source": [
    "import warnings\n",
    "warnings.filterwarnings('ignore')\n",
    "\n",
    "import matplotlib.pyplot as plt\n",
    "import matplotlib as mpl\n",
    "import seaborn as sns\n",
    "\n",
    "import numpy as np\n",
    "import pandas as pd\n",
    "import networkx as nx\n",
    "\n",
    "import logging\n",
    "from logger import setup_logger\n",
    "\n",
    "from scipy.spatial.distance import euclidean, jaccard, cosine\n",
    "\n",
    "from distance import closest, \\\n",
    "                     show_closest, \\\n",
    "                     distance, \\\n",
    "                     distance_to_weight\n",
    "\n",
    "from step import  select_columns, \\\n",
    "                  rename_columns, \\\n",
    "                  exclude_bidiredtional_associations, \\\n",
    "                  exclude_words_lt, \\\n",
    "                  exclude_stopwords, \\\n",
    "                  to_unique_works, \\\n",
    "                  to_glove_word_embeddings, \\\n",
    "                  lower, \\\n",
    "                  strip, \\\n",
    "                  dropna, \\\n",
    "                  plot_frequency, \\\n",
    "                  log_unique_words, \\\n",
    "                  log_source_into_response_and_vise_versa, \\\n",
    "                  n_top, \\\n",
    "                  all_columns_contains, \\\n",
    "                  append_calculated_column, \\\n",
    "                  append_source_response_freqs, \\\n",
    "                  select, \\\n",
    "                  distinct, \\\n",
    "                  exclude_loops\n",
    "\n",
    "from embedding import GoogleW2VSimilarity\n",
    "from dataset import summary"
   ]
  },
  {
   "cell_type": "code",
   "execution_count": 7,
   "metadata": {
    "id": "MFDB4mrZDuT8"
   },
   "outputs": [],
   "source": [
    "setup_logger(format = '%(levelname)s: %(message)s')"
   ]
  },
  {
   "cell_type": "markdown",
   "metadata": {
    "id": "zv2jbm-pDuT9",
    "tags": []
   },
   "source": [
    "###  4. Preprocesar dataset"
   ]
  },
  {
   "cell_type": "markdown",
   "metadata": {},
   "source": [
    "En este paso seleccionamos las columnas **cue** y **R1**, las renombramos a **source** y **response**. Luego minisculizamos y quitamos espacios. Filtramos las palabras de menos de 2 letras, filtramos las filas con nulos. Por último filtramos stop words por varios lenguajes."
   ]
  },
  {
   "cell_type": "code",
   "execution_count": 8,
   "metadata": {
    "id": "lvKtdQ0TDuT9"
   },
   "outputs": [],
   "source": [
    "def load_dataset(filename): return pd.read_csv(dataset_path.format(filename))"
   ]
  },
  {
   "cell_type": "code",
   "execution_count": 9,
   "metadata": {
    "colab": {
     "base_uri": "https://localhost:8080/",
     "height": 1000
    },
    "id": "FX714tBxDuT9",
    "outputId": "ace987b2-e740-40a1-9a56-3210f994ca28"
   },
   "outputs": [
    {
     "name": "stdout",
     "output_type": "stream",
     "text": [
      "INFO: (1228200, 13) --> select_columns({}) --> (1228200, 2)\n",
      "INFO: (1228200, 2) --> rename_columns({}) --> (1228200, 2)\n",
      "INFO: (1228200, 2) --> lower({}) --> (1228200, 2)\n",
      "INFO: (1228200, 2) --> strip({}) --> (1228200, 2)\n",
      "INFO: Unique - Source: 12282, Response: 63715\n",
      "INFO: Unique: True, Source into response: 1104304, Response into source: 1219500\n",
      "INFO: Unique: False, Source into response: 123896, Response into source: 8700\n",
      "INFO: (1228200, 2) --> exclude_words_lt({'size_less_than': 2}) --> (1225128, 2)\n",
      "INFO: (1225128, 2) --> dropna({}) --> (1194119, 2)\n",
      "INFO: (1194119, 2) --> exclude_stopwords({'languages': ['arabic']}) --> (1194119, 2)\n",
      "INFO: (1194119, 2) --> exclude_stopwords({'languages': ['azerbaijani']}) --> (1193633, 2)\n",
      "INFO: (1193633, 2) --> exclude_stopwords({'languages': ['bengali']}) --> (1193633, 2)\n",
      "INFO: (1193633, 2) --> exclude_stopwords({'languages': ['danish']}) --> (1191959, 2)\n",
      "INFO: (1191959, 2) --> exclude_stopwords({'languages': ['dutch']}) --> (1190828, 2)\n",
      "INFO: (1190828, 2) --> exclude_stopwords({'languages': ['english']}) --> (1180512, 2)\n",
      "INFO: (1180512, 2) --> exclude_stopwords({'languages': ['finnish']}) --> (1180512, 2)\n",
      "INFO: (1180512, 2) --> exclude_stopwords({'languages': ['french']}) --> (1179930, 2)\n",
      "INFO: (1179930, 2) --> exclude_stopwords({'languages': ['german']}) --> (1179444, 2)\n",
      "INFO: (1179444, 2) --> exclude_stopwords({'languages': ['greek']}) --> (1179444, 2)\n",
      "INFO: (1179444, 2) --> exclude_stopwords({'languages': ['hungarian']}) --> (1179146, 2)\n",
      "INFO: (1179146, 2) --> exclude_stopwords({'languages': ['indonesian']}) --> (1178778, 2)\n",
      "INFO: (1178778, 2) --> exclude_stopwords({'languages': ['italian']}) --> (1178094, 2)\n",
      "INFO: (1178094, 2) --> exclude_stopwords({'languages': ['kazakh']}) --> (1178094, 2)\n",
      "INFO: (1178094, 2) --> exclude_stopwords({'languages': ['nepali']}) --> (1178094, 2)\n",
      "INFO: (1178094, 2) --> exclude_stopwords({'languages': ['norwegian']}) --> (1177895, 2)\n",
      "INFO: (1177895, 2) --> exclude_stopwords({'languages': ['portuguese']}) --> (1177895, 2)\n",
      "INFO: (1177895, 2) --> exclude_stopwords({'languages': ['romanian']}) --> (1177014, 2)\n",
      "INFO: (1177014, 2) --> exclude_stopwords({'languages': ['russian']}) --> (1177014, 2)\n",
      "INFO: (1177014, 2) --> exclude_stopwords({'languages': ['slovene']}) --> (1176032, 2)\n",
      "INFO: (1176032, 2) --> exclude_stopwords({'languages': ['spanish']}) --> (1175470, 2)\n",
      "INFO: (1175470, 2) --> exclude_stopwords({'languages': ['swedish']}) --> (1175380, 2)\n",
      "INFO: (1175380, 2) --> exclude_stopwords({'languages': ['tajik']}) --> (1175380, 2)\n",
      "INFO: (1175380, 2) --> exclude_stopwords({'languages': ['turkish']}) --> (1175380, 2)\n",
      "INFO: (1194119, 2) --> exclude_stopwords({'column': 'source'}) --> (1175380, 2)\n",
      "INFO: (1175380, 2) --> exclude_stopwords({'languages': ['arabic']}) --> (1175380, 2)\n",
      "INFO: (1175380, 2) --> exclude_stopwords({'languages': ['azerbaijani']}) --> (1174410, 2)\n",
      "INFO: (1174410, 2) --> exclude_stopwords({'languages': ['bengali']}) --> (1174410, 2)\n",
      "INFO: (1174410, 2) --> exclude_stopwords({'languages': ['danish']}) --> (1166294, 2)\n",
      "INFO: (1166294, 2) --> exclude_stopwords({'languages': ['dutch']}) --> (1162893, 2)\n",
      "INFO: (1162893, 2) --> exclude_stopwords({'languages': ['english']}) --> (1148365, 2)\n",
      "INFO: (1148365, 2) --> exclude_stopwords({'languages': ['finnish']}) --> (1148357, 2)\n",
      "INFO: (1148357, 2) --> exclude_stopwords({'languages': ['french']}) --> (1147948, 2)\n",
      "INFO: (1147948, 2) --> exclude_stopwords({'languages': ['german']}) --> (1145137, 2)\n",
      "INFO: (1145137, 2) --> exclude_stopwords({'languages': ['greek']}) --> (1145137, 2)\n",
      "INFO: (1145137, 2) --> exclude_stopwords({'languages': ['hungarian']}) --> (1144648, 2)\n",
      "INFO: (1144648, 2) --> exclude_stopwords({'languages': ['indonesian']}) --> (1144486, 2)\n",
      "INFO: (1144486, 2) --> exclude_stopwords({'languages': ['italian']}) --> (1143982, 2)\n",
      "INFO: (1143982, 2) --> exclude_stopwords({'languages': ['kazakh']}) --> (1143982, 2)\n",
      "INFO: (1143982, 2) --> exclude_stopwords({'languages': ['nepali']}) --> (1143982, 2)\n",
      "INFO: (1143982, 2) --> exclude_stopwords({'languages': ['norwegian']}) --> (1143841, 2)\n",
      "INFO: (1143841, 2) --> exclude_stopwords({'languages': ['portuguese']}) --> (1143810, 2)\n",
      "INFO: (1143810, 2) --> exclude_stopwords({'languages': ['romanian']}) --> (1139994, 2)\n",
      "INFO: (1139994, 2) --> exclude_stopwords({'languages': ['russian']}) --> (1139994, 2)\n",
      "INFO: (1139994, 2) --> exclude_stopwords({'languages': ['slovene']}) --> (1136789, 2)\n",
      "INFO: (1136789, 2) --> exclude_stopwords({'languages': ['spanish']}) --> (1135353, 2)\n",
      "INFO: (1135353, 2) --> exclude_stopwords({'languages': ['swedish']}) --> (1135310, 2)\n",
      "INFO: (1135310, 2) --> exclude_stopwords({'languages': ['tajik']}) --> (1135310, 2)\n",
      "INFO: (1135310, 2) --> exclude_stopwords({'languages': ['turkish']}) --> (1135308, 2)\n",
      "INFO: (1175380, 2) --> exclude_stopwords({'column': 'response'}) --> (1135308, 2)\n",
      "INFO: (1135308, 2) --> distinct({}) --> (462922, 2)\n",
      "INFO: (462922, 2) --> exclude_loops({}) --> (462439, 2)\n"
     ]
    }
   ],
   "source": [
    "dataset = load_dataset(dataset_filename) \\\n",
    "    .pipe(select_columns) \\\n",
    "    .pipe(rename_columns, {'cue': 'source', 'R1': 'response'}) \\\n",
    "    .pipe(lower) \\\n",
    "    .pipe(strip) \\\n",
    "    .pipe(log_unique_words) \\\n",
    "    .pipe(log_source_into_response_and_vise_versa, unique=True) \\\n",
    "    .pipe(log_source_into_response_and_vise_versa, unique=False) \\\n",
    "    .pipe(exclude_words_lt, size_less_than=2) \\\n",
    "    .pipe(dropna) \\\n",
    "    .pipe(exclude_stopwords, column = 'source') \\\n",
    "    .pipe(exclude_stopwords, column = 'response') \\\n",
    "    .pipe(distinct) \\\n",
    "    .pipe(exclude_loops)"
   ]
  },
  {
   "cell_type": "markdown",
   "metadata": {
    "tags": []
   },
   "source": [
    "###  5. Generar un dicionario de embedding a partir de Glove"
   ]
  },
  {
   "cell_type": "markdown",
   "metadata": {},
   "source": [
    "A continuacion se genera un diccionario donde la calse es una palabra y el valor es un vector embedding. Ademas solo genermos este doccionario para las palabar que se encuentran en el dataset inicial."
   ]
  },
  {
   "cell_type": "code",
   "execution_count": 10,
   "metadata": {
    "colab": {
     "base_uri": "https://localhost:8080/",
     "height": 100,
     "referenced_widgets": [
      "1325dbc689144a4fb45d6d388de46f44",
      "3e442f9e62554cda9cd5f90710b789b4",
      "2d038527edf04142ae8f480e7b369c55",
      "e2f2eadf5d414959acf24da1b8559fbc",
      "6d42087d26b64c2f883acd51fbedbae6",
      "d3ab1418ae5645ac9baceafcc33df6fa",
      "b6cb2bcd08f84761b2a17af6bb399abb",
      "e0fa2fefd7c14439be31e089646f49da",
      "a274b90ab89242bfb63e805e35868cc0",
      "5f2b51abc7714859a1bb2f536b9086ec",
      "9662184260fe424cadfad6f39ce082d1"
     ]
    },
    "id": "r7O8mGd4DuT-",
    "outputId": "188fed03-ef95-493d-8c87-4705a2c7f78f"
   },
   "outputs": [
    {
     "name": "stdout",
     "output_type": "stream",
     "text": [
      "INFO: (462439, 2) --> to_unique_works({}) --> (462433, 1)\n"
     ]
    },
    {
     "data": {
      "application/vnd.jupyter.widget-view+json": {
       "model_id": "e159860b1ad74fbb896a66fa69693b92",
       "version_major": 2,
       "version_minor": 0
      },
      "text/plain": [
       "  0%|          | 0/462433 [00:00<?, ?it/s]"
      ]
     },
     "metadata": {},
     "output_type": "display_data"
    },
    {
     "name": "stdout",
     "output_type": "stream",
     "text": [
      "INFO: Found 5675 words.\n",
      "INFO: (462433, 1) --> to_glove_word_embeddings({'file_path': '../datasets/glove.840B.300d.txt'}) --> 5675\n"
     ]
    }
   ],
   "source": [
    "glove_word_embeddings = dataset \\\n",
    "    .pipe(to_unique_works) \\\n",
    "    .pipe(to_glove_word_embeddings, file_path = dataset_path.format(glove_embeding_filename_txt))"
   ]
  },
  {
   "cell_type": "markdown",
   "metadata": {
    "tags": []
   },
   "source": [
    "### 6. Calcular distancias"
   ]
  },
  {
   "cell_type": "markdown",
   "metadata": {},
   "source": [
    "Vamos a calcular distancias con dos enfoques distintos Usandel enveding de Glove y luego el embedding de GoogleNews. "
   ]
  },
  {
   "cell_type": "markdown",
   "metadata": {},
   "source": [
    "### 6.1 Glove\n",
    "\n",
    "Calculamos la distancias de una palabra elegida al azar contra todas las demas palabras del diccionario. Luego nos quedamos con el top 10 de las palabras mas cercanas."
   ]
  },
  {
   "cell_type": "code",
   "execution_count": 11,
   "metadata": {
    "colab": {
     "base_uri": "https://localhost:8080/"
    },
    "id": "XY-qcQjBDuT-",
    "outputId": "bbbae79c-7a28-4333-8f78-8fa19b6b6e6d"
   },
   "outputs": [
    {
     "name": "stdout",
     "output_type": "stream",
     "text": [
      "INFO: - distance: cosine\n",
      "INFO: - Word: alternative\n",
      "INFO: - Closest: ['preferable', 'affordable', 'straightforward', 'mainstream', 'sustainable', 'regardless', 'marketplace', 'framework', 'guidelines']\n",
      "INFO: - distance: euclidean\n",
      "INFO: - Word: alternative\n",
      "INFO: - Closest: ['preferable', 'straightforward', 'regardless', 'affordable', 'mainstream', 'mainstay', 'drawback', 'forefront', 'alongside']\n",
      "INFO: - distance: jaccard\n",
      "INFO: - Word: alternative\n",
      "INFO: - Closest: ['jetliner', 'dealbreaker', 'goldeneye', 'shipmate', 'penknife', 'masterbedroom', 'stairstep', 'serverfarm', 'website']\n"
     ]
    }
   ],
   "source": [
    "word_a = list(glove_word_embeddings.keys())[10]\n",
    "word_b = list(glove_word_embeddings.keys())[11]\n",
    "\n",
    "show_closest(glove_word_embeddings, word_a, cosine)\n",
    "show_closest(glove_word_embeddings, word_a, euclidean)\n",
    "show_closest(glove_word_embeddings, word_a, jaccard)"
   ]
  },
  {
   "cell_type": "code",
   "execution_count": 12,
   "metadata": {},
   "outputs": [
    {
     "data": {
      "text/html": [
       "<pre style=\"white-space:pre;overflow-x:auto;line-height:normal;font-family:Menlo,'DejaVu Sans Mono',consolas,'Courier New',monospace\"><span style=\"color: #008080; text-decoration-color: #008080; font-weight: bold\">0.914529338479042</span>\n",
       "</pre>\n"
      ],
      "text/plain": [
       "\u001b[1;36m0.914529338479042\u001b[0m\n"
      ]
     },
     "metadata": {},
     "output_type": "display_data"
    }
   ],
   "source": [
    "distance(glove_word_embeddings, word_a, word_b, cosine)"
   ]
  },
  {
   "cell_type": "markdown",
   "metadata": {
    "tags": []
   },
   "source": [
    "### 6.1 GoogleNews\n",
    "\n",
    "Ahora si usamos GoogleNews calcular la similaridad entre las palablas y tambien debemos filtrassr las palabras que no tenga similaridad. esta ultima segan a quellas que no se encuentren en el conjunto de embeddings de GoogleNews.\n"
   ]
  },
  {
   "cell_type": "code",
   "execution_count": 13,
   "metadata": {},
   "outputs": [
    {
     "name": "stdout",
     "output_type": "stream",
     "text": [
      "INFO: loading projection weights from ../datasets/GoogleNews-vectors-negative300.bin.gz\n",
      "INFO: KeyedVectors lifecycle event {'msg': 'loaded (3000000, 300) matrix of type float32 from ../datasets/GoogleNews-vectors-negative300.bin.gz', 'binary': True, 'encoding': 'utf8', 'datetime': '2021-12-12T20:16:20.972481', 'gensim': '4.0.1', 'python': '3.9.6 (default, Aug 18 2021, 19:38:01) \\n[GCC 7.5.0]', 'platform': 'Linux-5.14.21-2-MANJARO-x86_64-with-glibc2.33', 'event': 'load_word2vec_format'}\n"
     ]
    }
   ],
   "source": [
    "similarity = GoogleW2VSimilarity( path = dataset_path.format(google_embeding_filename))"
   ]
  },
  {
   "cell_type": "code",
   "execution_count": 14,
   "metadata": {},
   "outputs": [
    {
     "data": {
      "text/html": [
       "<pre style=\"white-space:pre;overflow-x:auto;line-height:normal;font-family:Menlo,'DejaVu Sans Mono',consolas,'Courier New',monospace\"><span style=\"color: #008080; text-decoration-color: #008080; font-weight: bold\">0.022291513</span>\n",
       "</pre>\n"
      ],
      "text/plain": [
       "\u001b[1;36m0.022291513\u001b[0m\n"
      ]
     },
     "metadata": {},
     "output_type": "display_data"
    }
   ],
   "source": [
    "similarity.cosine(word_a, word_b)"
   ]
  },
  {
   "cell_type": "markdown",
   "metadata": {
    "tags": []
   },
   "source": [
    "### 7. Calculamos los pesos para ambos grafos"
   ]
  },
  {
   "cell_type": "markdown",
   "metadata": {},
   "source": [
    "Calculamos el peso de las asociaciones **source-response** para el grafo **Gsww**:"
   ]
  },
  {
   "cell_type": "code",
   "execution_count": 15,
   "metadata": {},
   "outputs": [
    {
     "name": "stdout",
     "output_type": "stream",
     "text": [
      "INFO: (462439, 2) --> append_source_response_freqs({}) --> (462439, 4)\n",
      "INFO: (462439, 5) --> append_calculated_column({'column_name': 'sww_weight'}) --> (462439, 5)\n"
     ]
    }
   ],
   "source": [
    "dataset = dataset \\\n",
    "    .pipe(append_source_response_freqs) \\\n",
    "    .pipe(\n",
    "        append_calculated_column, \n",
    "        lambda it: it['source_response_freq'] / it['source_freq'], \n",
    "        column_name='sww_weight'\n",
    "    )"
   ]
  },
  {
   "cell_type": "markdown",
   "metadata": {},
   "source": [
    "Calculamos el peso de las asociaciones **source-response** para el grafo **Gw2v**. Tenemos dso tipos de pesos para el enbedding **GoogleNews** y otro para **Glove**:"
   ]
  },
  {
   "cell_type": "code",
   "execution_count": 16,
   "metadata": {},
   "outputs": [],
   "source": [
    "google_weight = lambda it: similarity.cosine(it.source, it.response)\n",
    "glove_weight  = lambda it: distance(glove_word_embeddings, it.source, it.response, cosine)"
   ]
  },
  {
   "cell_type": "code",
   "execution_count": 17,
   "metadata": {},
   "outputs": [
    {
     "name": "stdout",
     "output_type": "stream",
     "text": [
      "INFO: (462439, 6) --> append_calculated_column({}) --> (462439, 6)\n"
     ]
    }
   ],
   "source": [
    "dataset = dataset.pipe(append_calculated_column, google_weight,  'w2v_google_weight')"
   ]
  },
  {
   "cell_type": "code",
   "execution_count": 18,
   "metadata": {},
   "outputs": [
    {
     "name": "stdout",
     "output_type": "stream",
     "text": [
      "INFO: (462439, 7) --> append_calculated_column({}) --> (462439, 7)\n"
     ]
    }
   ],
   "source": [
    "dataset = dataset.pipe(append_calculated_column, glove_weight,  'w2v_glove_weight')"
   ]
  },
  {
   "cell_type": "markdown",
   "metadata": {},
   "source": [
    "Nos quedamos con las filas para las cuales exista su par (Para (a, b) existe un par (b,a)). Finalmente se grafica la frecuencia de palabras para cada columna. "
   ]
  },
  {
   "cell_type": "code",
   "execution_count": 19,
   "metadata": {},
   "outputs": [
    {
     "name": "stdout",
     "output_type": "stream",
     "text": [
      "INFO: (462439, 7) --> exclude_bidiredtional_associations({}) --> (367188, 7)\n"
     ]
    }
   ],
   "source": [
    "dataset = dataset.pipe(exclude_bidiredtional_associations)"
   ]
  },
  {
   "cell_type": "markdown",
   "metadata": {},
   "source": [
    "Finalmente, guardamos el dataset preprocesador para evitar vovler a procesarlo cada vez:"
   ]
  },
  {
   "cell_type": "code",
   "execution_count": 20,
   "metadata": {},
   "outputs": [
    {
     "name": "stdout",
     "output_type": "stream",
     "text": [
      "INFO: (367188, 7) --> select({}) --> (367188, 5)\n",
      "INFO: (367188, 5) --> distinct({}) --> (367188, 5)\n"
     ]
    }
   ],
   "source": [
    "dataset = dataset \\\n",
    "    .pipe(select, ['source', 'response', 'sww_weight', 'w2v_google_weight', 'w2v_glove_weight']) \\\n",
    "    .pipe(distinct)"
   ]
  },
  {
   "cell_type": "code",
   "execution_count": 21,
   "metadata": {},
   "outputs": [],
   "source": [
    "dataset.to_csv(dataset_path.format('processed_dataset.csv'), index=False)"
   ]
  },
  {
   "cell_type": "code",
   "execution_count": 22,
   "metadata": {
    "tags": []
   },
   "outputs": [
    {
     "name": "stdout",
     "output_type": "stream",
     "text": [
      "(367188, 5)\n"
     ]
    },
    {
     "data": {
      "text/html": [
       "<div>\n",
       "<style scoped>\n",
       "    .dataframe tbody tr th:only-of-type {\n",
       "        vertical-align: middle;\n",
       "    }\n",
       "\n",
       "    .dataframe tbody tr th {\n",
       "        vertical-align: top;\n",
       "    }\n",
       "\n",
       "    .dataframe thead th {\n",
       "        text-align: right;\n",
       "    }\n",
       "</style>\n",
       "<table border=\"1\" class=\"dataframe\">\n",
       "  <thead>\n",
       "    <tr style=\"text-align: right;\">\n",
       "      <th></th>\n",
       "      <th>source</th>\n",
       "      <th>response</th>\n",
       "      <th>sww_weight</th>\n",
       "      <th>w2v_google_weight</th>\n",
       "      <th>w2v_glove_weight</th>\n",
       "    </tr>\n",
       "  </thead>\n",
       "  <tbody>\n",
       "    <tr>\n",
       "      <th>0</th>\n",
       "      <td>although</td>\n",
       "      <td>nevertheless</td>\n",
       "      <td>0.033333</td>\n",
       "      <td>0.604110</td>\n",
       "      <td>NaN</td>\n",
       "    </tr>\n",
       "    <tr>\n",
       "      <th>1</th>\n",
       "      <td>although</td>\n",
       "      <td>though</td>\n",
       "      <td>0.033333</td>\n",
       "      <td>0.784028</td>\n",
       "      <td>NaN</td>\n",
       "    </tr>\n",
       "    <tr>\n",
       "      <th>2</th>\n",
       "      <td>although</td>\n",
       "      <td>question</td>\n",
       "      <td>0.033333</td>\n",
       "      <td>0.091440</td>\n",
       "      <td>NaN</td>\n",
       "    </tr>\n",
       "    <tr>\n",
       "      <th>3</th>\n",
       "      <td>although</td>\n",
       "      <td>however</td>\n",
       "      <td>0.033333</td>\n",
       "      <td>0.614937</td>\n",
       "      <td>NaN</td>\n",
       "    </tr>\n",
       "    <tr>\n",
       "      <th>4</th>\n",
       "      <td>although</td>\n",
       "      <td>even</td>\n",
       "      <td>0.033333</td>\n",
       "      <td>0.522209</td>\n",
       "      <td>NaN</td>\n",
       "    </tr>\n",
       "  </tbody>\n",
       "</table>\n",
       "</div>"
      ]
     },
     "execution_count": 22,
     "metadata": {},
     "output_type": "execute_result"
    },
    {
     "data": {
      "image/png": "[encoded data removed]"
     },
     "metadata": {
      "needs_background": "light"
     },
     "output_type": "display_data"
    },
    {
     "data": {
      "image/png": "[encoded data removed]"
     },
     "metadata": {
      "needs_background": "light"
     },
     "output_type": "display_data"
    },
    {
     "data": {
      "image/png": "[encoded data removed]"
     },
     "metadata": {
      "needs_background": "light"
     },
     "output_type": "display_data"
    },
    {
     "data": {
      "image/png": "[encoded data removed]"
     },
     "metadata": {
      "needs_background": "light"
     },
     "output_type": "display_data"
    },
    {
     "data": {
      "image/png": "[encoded data removed]"
     },
     "metadata": {
      "needs_background": "light"
     },
     "output_type": "display_data"
    }
   ],
   "source": [
    "summary(dataset)"
   ]
  },
  {
   "cell_type": "markdown",
   "metadata": {},
   "source": [
    "\n",
    "\n",
    "\n",
    "---  "
   ]
  },
  {
   "cell_type": "markdown",
   "metadata": {
    "id": "TnUHp3SkDuTw"
   },
   "source": [
    "###  Referencias\n",
    "\n",
    "* [Glove word embedding](https://nlp.stanford.edu/projects/glove/)\n",
    "* [Elmo word embedding](https://allennlp.org/elmo)\n",
    "* [Basics of Using Pre-trained GloVe Vectors in Python](https://medium.com/analytics-vidhya/basics-of-using-pre-trained-glove-vectors-in-python-d38905f356db)\n",
    "* [Ejemplo word2vect](https://colab.research.google.com/drive/1YcplHjDL1M6G9K62W4GyUbic0OxOt8GZ?usp=sharing)\n",
    "* [Ejemplo carga de dataset](https://colab.research.google.com/drive/1Qlq56GM6xERVpy6FAJhS5XCqaAKGlGtD?usp=sharing)\n",
    "* [Pandas pipelines](https://calmcode.io/pandas-pipe/end.html)\n",
    "* [Python logger](https://www.youtube.com/watch?v=g8nQ90Hk328&list=PLi01XoE8jYohWFPpC17Z-wWhPOSuh8Er-&index=17)\n",
    "* [Dataset](https://smallworldofwords.org/en/project/research)"
   ]
  }
 ],
 "metadata": {
  "colab": {
   "collapsed_sections": [],
   "include_colab_link": true,
   "name": "create_graph.ipynb",
   "provenance": []
  },
  "kernelspec": {
   "display_name": "Python 3 (ipykernel)",
   "language": "python",
   "name": "python3"
  },
  "language_info": {
   "codemirror_mode": {
    "name": "ipython",
    "version": 3
   },
   "file_extension": ".py",
   "mimetype": "text/x-python",
   "name": "python",
   "nbconvert_exporter": "python",
   "pygments_lexer": "ipython3",
   "version": "3.9.6"
  },
  "varInspector": {
   "cols": {
    "lenName": 16,
    "lenType": 16,
    "lenVar": 40
   },
   "kernels_config": {
    "python": {
     "delete_cmd_postfix": "",
     "delete_cmd_prefix": "del ",
     "library": "var_list.py",
     "varRefreshCmd": "print(var_dic_list())"
    },
    "r": {
     "delete_cmd_postfix": ") ",
     "delete_cmd_prefix": "rm(",
     "library": "var_list.r",
     "varRefreshCmd": "cat(var_dic_list()) "
    }
   },
   "types_to_exclude": [
    "module",
    "function",
    "builtin_function_or_method",
    "instance",
    "_Feature"
   ],
   "window_display": false
  },
  "widgets": {
   "application/vnd.jupyter.widget-state+json": {
    "state": {},
    "version_major": 2,
    "version_minor": 0
   }
  }
 },
 "nbformat": 4,
 "nbformat_minor": 4
}
