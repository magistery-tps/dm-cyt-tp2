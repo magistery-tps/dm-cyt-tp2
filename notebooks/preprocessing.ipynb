{
 "cells": [
  {
   "cell_type": "markdown",
   "metadata": {
    "colab_type": "text",
    "id": "view-in-github"
   },
   "source": [
    "<a href=\"https://colab.research.google.com/github/magistery-tps/dm-cyt-tp2/blob/main/notebooks/create_graph.ipynb\" target=\"_parent\"><img src=\"https://colab.research.google.com/assets/colab-badge.svg\" alt=\"Open In Colab\"/></a>"
   ]
  },
  {
   "cell_type": "markdown",
   "metadata": {
    "id": "TnUHp3SkDuTw"
   },
   "source": [
    "####  Referencias\n",
    "\n",
    "* [Pandas pipelines](https://calmcode.io/pandas-pipe/end.html)\n",
    "* [Python logger](https://www.youtube.com/watch?v=g8nQ90Hk328&list=PLi01XoE8jYohWFPpC17Z-wWhPOSuh8Er-&index=17)\n",
    "* [Dataset](https://smallworldofwords.org/en/project/research)\n",
    "* [Glove word embedding](https://nlp.stanford.edu/projects/glove/)\n",
    "* [Elmo word embedding](https://allennlp.org/elmo)\n",
    "* [Basics of Using Pre-trained GloVe Vectors in Python](https://medium.com/analytics-vidhya/basics-of-using-pre-trained-glove-vectors-in-python-d38905f356db)"
   ]
  },
  {
   "cell_type": "code",
   "execution_count": 1,
   "metadata": {
    "id": "D8TmQj9ze9qc"
   },
   "outputs": [],
   "source": [
    "from IPython.display import clear_output\n",
    "import sys\n",
    "import os.path\n",
    "from os import path\n",
    "\n",
    "def is_runing_into_colab_env():\n",
    "    try:\n",
    "        import google.colab\n",
    "        return True\n",
    "    except:\n",
    "        return False"
   ]
  },
  {
   "cell_type": "markdown",
   "metadata": {
    "id": "DhbEcYhlVZb7"
   },
   "source": [
    "### 1. Instalacion de paquetes"
   ]
  },
  {
   "cell_type": "markdown",
   "metadata": {
    "id": "aOtOb0Db2MPW"
   },
   "source": [
    "Bajo paquete para trabajar con EEG- Me permite ver la topografía"
   ]
  },
  {
   "cell_type": "code",
   "execution_count": 2,
   "metadata": {
    "colab": {
     "base_uri": "https://localhost:8080/"
    },
    "id": "s0n2ey7G2EKM",
    "outputId": "b547a5c0-fb35-43c0-e696-779a6680cefa"
   },
   "outputs": [],
   "source": [
    "if is_runing_into_colab_env(): \n",
    "    !pip install rich"
   ]
  },
  {
   "cell_type": "code",
   "execution_count": 3,
   "metadata": {
    "id": "JvZzreelQzoq"
   },
   "outputs": [],
   "source": [
    "%matplotlib inline\n",
    "%load_ext autoreload\n",
    "%load_ext rich\n",
    "%autoreload 2"
   ]
  },
  {
   "cell_type": "markdown",
   "metadata": {
    "id": "d_NorK2fkHKU"
   },
   "source": [
    "###  2. Descargar dataset"
   ]
  },
  {
   "cell_type": "markdown",
   "metadata": {
    "id": "Smgpeqq8dn2D"
   },
   "source": [
    "Se descarga el dataset y lo descomprime en `~/datasets`."
   ]
  },
  {
   "cell_type": "code",
   "execution_count": 4,
   "metadata": {
    "colab": {
     "base_uri": "https://localhost:8080/"
    },
    "id": "W3t42EgaAwa_",
    "outputId": "56c76664-2a72-4826-a842-071ce8fa0220"
   },
   "outputs": [],
   "source": [
    "dataset_filename = \"strength.SWOW-EN.R1.csv\"\n",
    "embeding_filename = \"glove.840B.300d\"\n",
    "embeding_filename_txt = embeding_filename + '.txt'\n",
    "\n",
    "dataset_url  = 'https://raw.githubusercontent.com/magistery-tps/dm-cyt-tp2/main/datasets/{}.zip'.format(dataset_filename)\n",
    "embeding_url = 'https://nlp.stanford.edu/data/{}.zip'.format(embeding_filename)\n",
    "\n",
    "if is_runing_into_colab_env():\n",
    "    !cd ~\n",
    "    !rm -rf datasets\n",
    "    !rm -rf *.zip\n",
    "    !wget  {dataset_url}\n",
    "    !wget  {embeding_url}\n",
    "    !unzip {dataset_filename}.zip\n",
    "    !unzip {embeding_filename}.zip\n",
    "    !mkdir datasets\n",
    "    !mv {dataset_filename} datasets\n",
    "    !mv {embeding_filename}.txt datasets\n",
    "    !rm *.zip"
   ]
  },
  {
   "cell_type": "markdown",
   "metadata": {
    "id": "CwhASmaCQzot"
   },
   "source": [
    "###  3. Importa libreria del proyecto"
   ]
  },
  {
   "cell_type": "code",
   "execution_count": 5,
   "metadata": {
    "colab": {
     "base_uri": "https://localhost:8080/"
    },
    "id": "C_mOvYN2Qzou",
    "outputId": "b595ce62-6be2-4ed5-af7d-707326bec016"
   },
   "outputs": [],
   "source": [
    "if is_runing_into_colab_env():\n",
    "    if path.exists('/content/dm-cyt-tp2'):\n",
    "        print('Pull...\\n')\n",
    "        !cd dm-cyt-tp2; git pull origin main\n",
    "    else:\n",
    "        print('Clone...\\n')\n",
    "        !git clone https://github.com/magistery-tps/dm-cyt-tp2.git"
   ]
  },
  {
   "cell_type": "code",
   "execution_count": 6,
   "metadata": {
    "id": "xRORyNCjQzou"
   },
   "outputs": [],
   "source": [
    "sys.path.append('/content/dm-cyt-tp2/src' if is_runing_into_colab_env() else '../src')\n",
    "dataset_path = '/content/datasets/{}' if is_runing_into_colab_env() else '../datasets/{}'"
   ]
  },
  {
   "cell_type": "markdown",
   "metadata": {
    "id": "udoiqDNTesug"
   },
   "source": [
    "###  4. Importa paquetes externos"
   ]
  },
  {
   "cell_type": "code",
   "execution_count": 7,
   "metadata": {
    "id": "lVzcUudLesui"
   },
   "outputs": [
    {
     "name": "stderr",
     "output_type": "stream",
     "text": [
      "[nltk_data] Downloading package stopwords to /home/adrian/nltk_data...\n",
      "[nltk_data]   Package stopwords is already up-to-date!\n"
     ]
    }
   ],
   "source": [
    "import numpy as np\n",
    "import pandas as pd\n",
    "\n",
    "import logging\n",
    "from logger import setup_logger\n",
    "\n",
    "from scipy.spatial.distance import euclidean, jaccard, cosine\n",
    "from distance import closest, show_closest\n",
    "\n",
    "from transform_step import  select_columns, \\\n",
    "                            rename_columns, \\\n",
    "                            filter_bidiredtional_associations, \\\n",
    "                            filter_words_lt, \\\n",
    "                            filter_stopwords, \\\n",
    "                            to_unique_works, \\\n",
    "                            to_work_embeddings, \\\n",
    "                            lower, \\\n",
    "                            strip, \\\n",
    "                            dropna\n",
    "\n",
    "from output_step import plot_frequency, \\\n",
    "                        log_unique_words, \\\n",
    "                        log_source_into_response_and_vise_versa"
   ]
  },
  {
   "cell_type": "code",
   "execution_count": 8,
   "metadata": {
    "id": "MFDB4mrZDuT8"
   },
   "outputs": [],
   "source": [
    "setup_logger(format = '%(levelname)s: %(message)s')"
   ]
  },
  {
   "cell_type": "markdown",
   "metadata": {
    "id": "zv2jbm-pDuT9",
    "tags": []
   },
   "source": [
    "###  5. Preprocesar dataset"
   ]
  },
  {
   "cell_type": "code",
   "execution_count": 9,
   "metadata": {
    "id": "lvKtdQ0TDuT9"
   },
   "outputs": [],
   "source": [
    "def dataset(filename): return pd.read_csv(dataset_path.format(filename), sep='\\t')"
   ]
  },
  {
   "cell_type": "code",
   "execution_count": 10,
   "metadata": {
    "colab": {
     "base_uri": "https://localhost:8080/",
     "height": 1000
    },
    "id": "FX714tBxDuT9",
    "outputId": "ace987b2-e740-40a1-9a56-3210f994ca28"
   },
   "outputs": [
    {
     "name": "stdout",
     "output_type": "stream",
     "text": [
      "INFO: (483636, 5) --> select_columns({}) --> (483636, 2)\n",
      "INFO: (483636, 2) --> rename_columns({}) --> (483636, 2)\n",
      "INFO: (483636, 2) --> lower({}) --> (483636, 2)\n",
      "INFO: (483636, 2) --> strip({}) --> (483636, 2)\n",
      "INFO: Unique - Source: 12217, Response: 63530\n",
      "INFO: Unique: True, Source into response: 388907, Response into source: 482447\n",
      "INFO: Unique: False, Source into response: 94729, Response into source: 1189\n",
      "INFO: (483636, 2) --> filter_words_lt({'size_less_than': 2}) --> (482247, 2)\n",
      "INFO: (482247, 2) --> dropna({}) --> (482200, 2)\n",
      "INFO: (482200, 2) --> filter_bidiredtional_associations({}) --> (386910, 2)\n",
      "INFO: (386910, 2) --> filter_stopwords({'languages': ['arabic']}) --> (386910, 2)\n",
      "INFO: (386910, 2) --> filter_stopwords({'languages': ['azerbaijani']}) --> (386733, 2)\n",
      "INFO: (386733, 2) --> filter_stopwords({'languages': ['bengali']}) --> (386733, 2)\n",
      "INFO: (386733, 2) --> filter_stopwords({'languages': ['danish']}) --> (386222, 2)\n",
      "INFO: (386222, 2) --> filter_stopwords({'languages': ['dutch']}) --> (385899, 2)\n",
      "INFO: (385899, 2) --> filter_stopwords({'languages': ['english']}) --> (382894, 2)\n",
      "INFO: (382894, 2) --> filter_stopwords({'languages': ['finnish']}) --> (382894, 2)\n",
      "INFO: (382894, 2) --> filter_stopwords({'languages': ['french']}) --> (382709, 2)\n",
      "INFO: (382709, 2) --> filter_stopwords({'languages': ['german']}) --> (382564, 2)\n",
      "INFO: (382564, 2) --> filter_stopwords({'languages': ['greek']}) --> (382564, 2)\n",
      "INFO: (382564, 2) --> filter_stopwords({'languages': ['hungarian']}) --> (382480, 2)\n",
      "INFO: (382480, 2) --> filter_stopwords({'languages': ['indonesian']}) --> (382390, 2)\n",
      "INFO: (382390, 2) --> filter_stopwords({'languages': ['italian']}) --> (382208, 2)\n",
      "INFO: (382208, 2) --> filter_stopwords({'languages': ['kazakh']}) --> (382208, 2)\n",
      "INFO: (382208, 2) --> filter_stopwords({'languages': ['nepali']}) --> (382208, 2)\n",
      "INFO: (382208, 2) --> filter_stopwords({'languages': ['norwegian']}) --> (382154, 2)\n",
      "INFO: (382154, 2) --> filter_stopwords({'languages': ['portuguese']}) --> (382154, 2)\n",
      "INFO: (382154, 2) --> filter_stopwords({'languages': ['romanian']}) --> (381855, 2)\n",
      "INFO: (381855, 2) --> filter_stopwords({'languages': ['russian']}) --> (381855, 2)\n",
      "INFO: (381855, 2) --> filter_stopwords({'languages': ['slovene']}) --> (381505, 2)\n",
      "INFO: (381505, 2) --> filter_stopwords({'languages': ['spanish']}) --> (381355, 2)\n",
      "INFO: (381355, 2) --> filter_stopwords({'languages': ['swedish']}) --> (381328, 2)\n",
      "INFO: (381328, 2) --> filter_stopwords({'languages': ['tajik']}) --> (381328, 2)\n",
      "INFO: (381328, 2) --> filter_stopwords({'languages': ['turkish']}) --> (381328, 2)\n",
      "INFO: (386910, 2) --> filter_stopwords({'column': 'source'}) --> (381328, 2)\n",
      "INFO: (381328, 2) --> filter_stopwords({'languages': ['arabic']}) --> (381328, 2)\n",
      "INFO: (381328, 2) --> filter_stopwords({'languages': ['azerbaijani']}) --> (380928, 2)\n",
      "INFO: (380928, 2) --> filter_stopwords({'languages': ['bengali']}) --> (380928, 2)\n",
      "INFO: (380928, 2) --> filter_stopwords({'languages': ['danish']}) --> (378319, 2)\n",
      "INFO: (378319, 2) --> filter_stopwords({'languages': ['dutch']}) --> (376955, 2)\n",
      "INFO: (376955, 2) --> filter_stopwords({'languages': ['english']}) --> (371377, 2)\n",
      "INFO: (371377, 2) --> filter_stopwords({'languages': ['finnish']}) --> (371377, 2)\n",
      "INFO: (371377, 2) --> filter_stopwords({'languages': ['french']}) --> (371228, 2)\n",
      "INFO: (371228, 2) --> filter_stopwords({'languages': ['german']}) --> (370436, 2)\n",
      "INFO: (370436, 2) --> filter_stopwords({'languages': ['greek']}) --> (370436, 2)\n",
      "INFO: (370436, 2) --> filter_stopwords({'languages': ['hungarian']}) --> (370258, 2)\n",
      "INFO: (370258, 2) --> filter_stopwords({'languages': ['indonesian']}) --> (370225, 2)\n",
      "INFO: (370225, 2) --> filter_stopwords({'languages': ['italian']}) --> (370027, 2)\n",
      "INFO: (370027, 2) --> filter_stopwords({'languages': ['kazakh']}) --> (370027, 2)\n",
      "INFO: (370027, 2) --> filter_stopwords({'languages': ['nepali']}) --> (370027, 2)\n",
      "INFO: (370027, 2) --> filter_stopwords({'languages': ['norwegian']}) --> (369972, 2)\n",
      "INFO: (369972, 2) --> filter_stopwords({'languages': ['portuguese']}) --> (369972, 2)\n",
      "INFO: (369972, 2) --> filter_stopwords({'languages': ['romanian']}) --> (368885, 2)\n",
      "INFO: (368885, 2) --> filter_stopwords({'languages': ['russian']}) --> (368885, 2)\n",
      "INFO: (368885, 2) --> filter_stopwords({'languages': ['slovene']}) --> (367981, 2)\n",
      "INFO: (367981, 2) --> filter_stopwords({'languages': ['spanish']}) --> (367606, 2)\n",
      "INFO: (367606, 2) --> filter_stopwords({'languages': ['swedish']}) --> (367594, 2)\n",
      "INFO: (367594, 2) --> filter_stopwords({'languages': ['tajik']}) --> (367594, 2)\n",
      "INFO: (367594, 2) --> filter_stopwords({'languages': ['turkish']}) --> (367594, 2)\n",
      "INFO: (381328, 2) --> filter_stopwords({'column': 'response'}) --> (367594, 2)\n"
     ]
    },
    {
     "data": {
      "image/png": "[encoded data removed]"
     },
     "metadata": {
      "needs_background": "light"
     },
     "output_type": "display_data"
    }
   ],
   "source": [
    "output = \\\n",
    "    dataset(dataset_filename) \\\n",
    "    .pipe(select_columns) \\\n",
    "    .pipe(rename_columns) \\\n",
    "    .pipe(lower) \\\n",
    "    .pipe(strip) \\\n",
    "    .pipe(log_unique_words) \\\n",
    "    .pipe(log_source_into_response_and_vise_versa, unique=True) \\\n",
    "    .pipe(log_source_into_response_and_vise_versa, unique=False) \\\n",
    "    .pipe(filter_words_lt, size_less_than=2) \\\n",
    "    .pipe(dropna) \\\n",
    "    .pipe(filter_bidiredtional_associations) \\\n",
    "    .pipe(filter_stopwords, column = 'source') \\\n",
    "    .pipe(filter_stopwords, column = 'response') \\\n",
    "    .pipe(plot_frequency, column = 'source') \\\n",
    "    .pipe(plot_frequency, column = 'response')"
   ]
  },
  {
   "cell_type": "markdown",
   "metadata": {},
   "source": [
    "###  6. Generar un dicionario de embedding a partir de Glove"
   ]
  },
  {
   "cell_type": "code",
   "execution_count": 11,
   "metadata": {
    "colab": {
     "base_uri": "https://localhost:8080/",
     "height": 100,
     "referenced_widgets": [
      "1325dbc689144a4fb45d6d388de46f44",
      "3e442f9e62554cda9cd5f90710b789b4",
      "2d038527edf04142ae8f480e7b369c55",
      "e2f2eadf5d414959acf24da1b8559fbc",
      "6d42087d26b64c2f883acd51fbedbae6",
      "d3ab1418ae5645ac9baceafcc33df6fa",
      "b6cb2bcd08f84761b2a17af6bb399abb",
      "e0fa2fefd7c14439be31e089646f49da",
      "a274b90ab89242bfb63e805e35868cc0",
      "5f2b51abc7714859a1bb2f536b9086ec",
      "9662184260fe424cadfad6f39ce082d1"
     ]
    },
    "id": "r7O8mGd4DuT-",
    "outputId": "188fed03-ef95-493d-8c87-4705a2c7f78f"
   },
   "outputs": [
    {
     "name": "stdout",
     "output_type": "stream",
     "text": [
      "INFO: (367594, 2) --> to_unique_works({}) --> (367201, 1)\n"
     ]
    },
    {
     "data": {
      "application/vnd.jupyter.widget-view+json": {
       "model_id": "472e87ead87448179475046fe1bd8c98",
       "version_major": 2,
       "version_minor": 0
      },
      "text/plain": [
       "  0%|          | 0/367201 [00:00<?, ?it/s]"
      ]
     },
     "metadata": {},
     "output_type": "display_data"
    },
    {
     "name": "stdout",
     "output_type": "stream",
     "text": [
      "INFO: Found 5319 words.\n",
      "INFO: (367201, 1) --> to_work_embeddings({'file_path': '../datasets/glove.840B.300d.txt'}) --> 5319\n"
     ]
    }
   ],
   "source": [
    "work_embeddings = output \\\n",
    "    .pipe(to_unique_works) \\\n",
    "    .pipe(to_work_embeddings, file_path = dataset_path.format(embeding_filename_txt))"
   ]
  },
  {
   "cell_type": "markdown",
   "metadata": {},
   "source": [
    "### 7. Calcular distancias"
   ]
  },
  {
   "cell_type": "code",
   "execution_count": 12,
   "metadata": {
    "colab": {
     "base_uri": "https://localhost:8080/"
    },
    "id": "XY-qcQjBDuT-",
    "outputId": "bbbae79c-7a28-4333-8f78-8fa19b6b6e6d"
   },
   "outputs": [
    {
     "name": "stdout",
     "output_type": "stream",
     "text": [
      "INFO: - distance: cosine\n",
      "INFO: - Word: alternative\n",
      "INFO: - Closest: ['preferable', 'affordable', 'straightforward', 'mainstream', 'sustainable', 'regardless', 'marketplace', 'framework', 'guidelines']\n",
      "INFO: - distance: euclidean\n",
      "INFO: - Word: alternative\n",
      "INFO: - Closest: ['preferable', 'straightforward', 'regardless', 'affordable', 'mainstream', 'mainstay', 'drawback', 'forefront', 'alongside']\n",
      "INFO: - distance: jaccard\n",
      "INFO: - Word: alternative\n",
      "INFO: - Closest: ['jetliner', 'dealbreaker', 'goldeneye', 'shipmate', 'penknife', 'masterbedroom', 'stairstep', 'serverfarm', 'website']\n"
     ]
    }
   ],
   "source": [
    "any_word = list(work_embeddings.keys())[10]\n",
    "\n",
    "show_closest(work_embeddings, any_word, cosine)\n",
    "show_closest(work_embeddings, any_word, euclidean)\n",
    "show_closest(work_embeddings, any_word, jaccard)"
   ]
  },
  {
   "cell_type": "code",
   "execution_count": null,
   "metadata": {},
   "outputs": [],
   "source": []
  }
 ],
 "metadata": {
  "colab": {
   "collapsed_sections": [],
   "include_colab_link": true,
   "name": "create_graph.ipynb",
   "provenance": []
  },
  "kernelspec": {
   "display_name": "Python 3 (ipykernel)",
   "language": "python",
   "name": "python3"
  },
  "language_info": {
   "codemirror_mode": {
    "name": "ipython",
    "version": 3
   },
   "file_extension": ".py",
   "mimetype": "text/x-python",
   "name": "python",
   "nbconvert_exporter": "python",
   "pygments_lexer": "ipython3",
   "version": "3.9.6"
  },
  "varInspector": {
   "cols": {
    "lenName": 16,
    "lenType": 16,
    "lenVar": 40
   },
   "kernels_config": {
    "python": {
     "delete_cmd_postfix": "",
     "delete_cmd_prefix": "del ",
     "library": "var_list.py",
     "varRefreshCmd": "print(var_dic_list())"
    },
    "r": {
     "delete_cmd_postfix": ") ",
     "delete_cmd_prefix": "rm(",
     "library": "var_list.r",
     "varRefreshCmd": "cat(var_dic_list()) "
    }
   },
   "types_to_exclude": [
    "module",
    "function",
    "builtin_function_or_method",
    "instance",
    "_Feature"
   ],
   "window_display": false
  },
  "widgets": {
   "application/vnd.jupyter.widget-state+json": {
    "state": {
     "0e833c08550246fcaccf1f306a458be4": {
      "model_module": "@jupyter-widgets/controls",
      "model_module_version": "1.5.0",
      "model_name": "DescriptionStyleModel",
      "state": {
       "description_width": ""
      }
     },
     "107b2d36628d469aacc2d17a279abdb5": {
      "model_module": "@jupyter-widgets/controls",
      "model_module_version": "1.5.0",
      "model_name": "FloatProgressModel",
      "state": {
       "bar_style": "success",
       "layout": "IPY_MODEL_9fc77e9d77084f3fbf2b621cdb174d39",
       "max": 367201,
       "style": "IPY_MODEL_78ba27e56a3341648f8711031b3b3991",
       "value": 367201
      }
     },
     "472e87ead87448179475046fe1bd8c98": {
      "model_module": "@jupyter-widgets/controls",
      "model_module_version": "1.5.0",
      "model_name": "HBoxModel",
      "state": {
       "children": [
        "IPY_MODEL_db279c50af7f4c6ca42246c3ef235fe5",
        "IPY_MODEL_107b2d36628d469aacc2d17a279abdb5",
        "IPY_MODEL_6196371dbce149c1bccb9d09d91cf369"
       ],
       "layout": "IPY_MODEL_ad6baa3f31da428eb94039e44ddb1832"
      }
     },
     "48e24ae713ce42f79db967f79779c820": {
      "model_module": "@jupyter-widgets/controls",
      "model_module_version": "1.5.0",
      "model_name": "DescriptionStyleModel",
      "state": {
       "description_width": ""
      }
     },
     "6196371dbce149c1bccb9d09d91cf369": {
      "model_module": "@jupyter-widgets/controls",
      "model_module_version": "1.5.0",
      "model_name": "HTMLModel",
      "state": {
       "layout": "IPY_MODEL_98bea0050651431bbb6b05427140fb16",
       "style": "IPY_MODEL_0e833c08550246fcaccf1f306a458be4",
       "value": " 367201/367201 [00:17&lt;00:00, 211.08it/s]"
      }
     },
     "78ba27e56a3341648f8711031b3b3991": {
      "model_module": "@jupyter-widgets/controls",
      "model_module_version": "1.5.0",
      "model_name": "ProgressStyleModel",
      "state": {
       "description_width": ""
      }
     },
     "98bea0050651431bbb6b05427140fb16": {
      "model_module": "@jupyter-widgets/base",
      "model_module_version": "1.2.0",
      "model_name": "LayoutModel",
      "state": {}
     },
     "9fc77e9d77084f3fbf2b621cdb174d39": {
      "model_module": "@jupyter-widgets/base",
      "model_module_version": "1.2.0",
      "model_name": "LayoutModel",
      "state": {}
     },
     "ad6baa3f31da428eb94039e44ddb1832": {
      "model_module": "@jupyter-widgets/base",
      "model_module_version": "1.2.0",
      "model_name": "LayoutModel",
      "state": {}
     },
     "db279c50af7f4c6ca42246c3ef235fe5": {
      "model_module": "@jupyter-widgets/controls",
      "model_module_version": "1.5.0",
      "model_name": "HTMLModel",
      "state": {
       "layout": "IPY_MODEL_dbcd2892c87f449ea6d938d2e20b2440",
       "style": "IPY_MODEL_48e24ae713ce42f79db967f79779c820",
       "value": "100%"
      }
     },
     "dbcd2892c87f449ea6d938d2e20b2440": {
      "model_module": "@jupyter-widgets/base",
      "model_module_version": "1.2.0",
      "model_name": "LayoutModel",
      "state": {}
     }
    },
    "version_major": 2,
    "version_minor": 0
   }
  }
 },
 "nbformat": 4,
 "nbformat_minor": 4
}
